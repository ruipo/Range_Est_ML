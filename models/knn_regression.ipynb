{
 "cells": [
  {
   "cell_type": "code",
   "execution_count": null,
   "metadata": {},
   "outputs": [],
   "source": [
    "import keras\n",
    "\n",
    "import numpy as np\n",
    "from sklearn import preprocessing\n",
    "import matplotlib.pyplot as plt\n",
    "from matplotlib.colors import Normalize\n",
    "import matplotlib.cm as cm\n",
    "\n",
    "from sklearn.neighbors import KNeighborsRegressor\n",
    "from sklearn.metrics.pairwise import cosine_similarity\n",
    "\n",
    "def mean_absolute_percentage_error(y_true, y_pred): \n",
    "    y_true, y_pred = np.array(y_true), np.array(y_pred)\n",
    "    return np.mean(np.abs((y_true - y_pred) / y_true)) * 100\n",
    "\n",
    "def dist(x1,x2):\n",
    "    return 1-cosine_similarity([x1],[x2])"
   ]
  },
  {
   "cell_type": "code",
   "execution_count": null,
   "metadata": {},
   "outputs": [],
   "source": [
    "X_train = np.loadtxt('vec_mat_features_icex_src_0.01train_norm.csv',delimiter=\",\")\n",
    "labels_unstand = np.loadtxt('vec_mat_rlabels_icex_src_0.01train.csv',delimiter=\",\")\n",
    "\n",
    "#Import training data\n",
    "#X_train = preprocessing.scale(X_train)\n",
    "labels_unstand = labels_unstand.ravel()\n",
    "y_train = labels_unstand\n",
    "\n",
    "index=np.arange(X_train.shape[0])\n",
    "np.random.shuffle(index)\n",
    "\n",
    "X_train=X_train[index,:]\n",
    "y_train=y_train[index]\n",
    "\n",
    "#X_train,y_train = shuffle(X_train, y_train)\n",
    "\n",
    "#Import testing data\n",
    "X_test = np.loadtxt('vec_mat_features_icex_src_testk_norm.csv',delimiter=\",\")\n",
    "temp_ytest = np.loadtxt('vec_mat_rlabels_icex_src_testk.csv',delimiter=\",\")\n",
    "y_test= []\n",
    "\n",
    "#X_test = preprocessing.scale(X_test)\n",
    "\n",
    "temp_ytest = temp_ytest.ravel()\n",
    "y_test = temp_ytest\n",
    "\n",
    "\n",
    "print(X_train.shape)\n",
    "print(y_train.shape)\n",
    "print(X_test.shape)\n",
    "print(y_test.shape)"
   ]
  },
  {
   "cell_type": "code",
   "execution_count": null,
   "metadata": {},
   "outputs": [],
   "source": [
    "np.savetxt('x_train.tsv',X_train,delimiter='\\t')"
   ]
  },
  {
   "cell_type": "code",
   "execution_count": null,
   "metadata": {},
   "outputs": [],
   "source": [
    "model = KNeighborsRegressor(algorithm='auto',n_neighbors=1,metric=lambda x1,x2: dist(x1,x2))\n",
    "model.fit(X_train, y_train)"
   ]
  },
  {
   "cell_type": "code",
   "execution_count": null,
   "metadata": {},
   "outputs": [],
   "source": [
    "y_pred = model.predict(X_test)\n",
    "#y_train_pred = model.predict(X_train)"
   ]
  },
  {
   "cell_type": "code",
   "execution_count": null,
   "metadata": {},
   "outputs": [],
   "source": [
    "diff = abs((y_pred)-(y_test))\n",
    "error = diff[diff>1]\n",
    "percent_correct = (len(y_test)-len(error))/len(y_test)\n",
    "\n",
    "acc = 0.5;\n",
    "pred_dist_class = np.round(y_pred/acc)*acc;\n",
    "act_distance_class = np.round(y_test/acc)*acc;\n",
    "acc = 100*sum(((pred_dist_class-act_distance_class) == 0))/len(act_distance_class);\n",
    "\n",
    "#diff = abs((y_train_pred)-(y_train))\n",
    "#error = diff[diff>1]\n",
    "#percent_correct_t = (len(y_train)-len(error))/len(y_train)\n",
    "\n",
    "#print('Training percent within 1km:',percent_correct_t*100)\n",
    "\n",
    "#print('Training mape:',mean_absolute_percentage_error(y_train, y_train_pred))\n",
    "\n",
    "print('Testing percent within 1km:',percent_correct*100)\n",
    "\n",
    "print('Test mape:',mean_absolute_percentage_error(y_test, y_pred))\n",
    "\n",
    "print('Testing acc:',acc)"
   ]
  },
  {
   "cell_type": "code",
   "execution_count": null,
   "metadata": {},
   "outputs": [],
   "source": [
    "inds = y_test.argsort()\n",
    "sorted_y_test = y_test[inds]\n",
    "\n",
    "sorted_y_pred = np.squeeze(y_pred)[inds]\n",
    "\n",
    "#Plotting\n",
    "colors = sorted_y_pred-sorted_y_test\n",
    "norm = Normalize()\n",
    "norm.autoscale(colors)\n",
    "colormap = cm.rainbow\n",
    "fig1 = plt.figure(figsize = (10,8))\n",
    "plt.scatter(sorted_y_test,sorted_y_pred,marker='.',c='k',alpha=0.75)\n",
    "plt.plot(sorted_y_test,sorted_y_test,'r',linewidth = 2)\n",
    "plt.quiver(sorted_y_test, sorted_y_test, np.zeros(len(sorted_y_test)), sorted_y_pred-sorted_y_test,color=colormap(norm(colors)),angles='xy', scale_units='xy', scale=1.,width=0.002)\n",
    "plt.axis([3, 50, 3, 50],fontsize=20)\n",
    "plt.ylabel('Predicted Distance (km)',fontsize=20)\n",
    "plt.xlabel('Actual Distance (km)',fontsize=20)\n",
    "plt.title('1-NN Regression Test Predictions (0.25% Decrease to Bottom SSP)',fontsize=20)\n",
    "plt.grid()"
   ]
  },
  {
   "cell_type": "code",
   "execution_count": null,
   "metadata": {},
   "outputs": [],
   "source": [
    "fig1.savefig('1nn_reg_testk_norm.png')"
   ]
  },
  {
   "cell_type": "code",
   "execution_count": null,
   "metadata": {},
   "outputs": [],
   "source": []
  }
 ],
 "metadata": {
  "kernelspec": {
   "display_name": "Python 3",
   "language": "python",
   "name": "python3"
  },
  "language_info": {
   "codemirror_mode": {
    "name": "ipython",
    "version": 3
   },
   "file_extension": ".py",
   "mimetype": "text/x-python",
   "name": "python",
   "nbconvert_exporter": "python",
   "pygments_lexer": "ipython3",
   "version": "3.6.4"
  }
 },
 "nbformat": 4,
 "nbformat_minor": 2
}
