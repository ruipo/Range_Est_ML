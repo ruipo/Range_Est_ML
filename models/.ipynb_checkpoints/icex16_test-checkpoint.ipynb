{
 "cells": [
  {
   "cell_type": "code",
   "execution_count": null,
   "metadata": {},
   "outputs": [],
   "source": [
    "import keras\n",
    "\n",
    "import numpy as np\n",
    "import pandas as pd\n",
    "import seaborn as sn\n",
    "from sklearn import preprocessing\n",
    "import matplotlib.pyplot as plt\n",
    "import matplotlib.cm as cm\n",
    "from matplotlib.colors import Normalize\n",
    "import matplotlib.dates as mds\n",
    "\n",
    "def encode(series):\n",
    "    return pd.get_dummies(series.astype(str))"
   ]
  },
  {
   "cell_type": "code",
   "execution_count": null,
   "metadata": {},
   "outputs": [],
   "source": [
    "model = keras.models.load_model('cnnr_iter1.h5')\n",
    "model.summary()\n",
    "pred_labels_all = []"
   ]
  },
  {
   "cell_type": "code",
   "execution_count": null,
   "metadata": {},
   "outputs": [],
   "source": [
    "#FNN CLASSIFICATION\n",
    "\n",
    "features = np.loadtxt('vec_mat_features_icex_src_icex16_test.csv',delimiter=\",\")\n",
    "temp_labels = np.loadtxt('vec_mat_clabels_icex_src_test2.csv',delimiter=\",\")\n",
    "labels_t = []\n",
    "\n",
    "X_test = preprocessing.scale(features)\n",
    "\n",
    "for l in range(len(temp_labels)):\n",
    "    labels_t.append(str(temp_labels[l]))\n",
    "    \n",
    "labels_t = np.array(labels_t)\n",
    "labels_t = labels_t.ravel()\n",
    "\n",
    "def encode(series): \n",
    "    return pd.get_dummies(series.astype(str))\n",
    "\n",
    "y_test = encode(labels_t)\n",
    "labels = list(y_test.columns.values)\n",
    "\n",
    "print(X_test.shape)\n",
    "\n",
    "predictions = model.predict(X_test)\n",
    "\n",
    "pred_labels = []\n",
    "for i in np.argmax(predictions, axis=1):\n",
    "    pred_labels.append(float(labels[i]))\n",
    "    \n",
    "time = np.arange(0,predictions.shape[0]*10.2412,10.2412)"
   ]
  },
  {
   "cell_type": "code",
   "execution_count": null,
   "metadata": {},
   "outputs": [],
   "source": [
    "floatcn = np.array(labels).astype(np.float)\n",
    "inds = floatcn.argsort()\n",
    "sorted_predictions = predictions[:,inds]"
   ]
  },
  {
   "cell_type": "code",
   "execution_count": null,
   "metadata": {},
   "outputs": [],
   "source": [
    "fig, ax = plt.subplots(figsize=(10,6))\n",
    "\n",
    "c = ax.pcolormesh(time, np.linspace(3,50,95), sorted_predictions.T*100, cmap='jet',vmin=0, vmax=100)\n",
    "ax.scatter(time,pred_labels,c='r',marker='.')\n",
    "ax.set_title('ICEX16 Hour 8 FNN Classification Result (With Normalization)',fontsize=20)\n",
    "ax.set_ylabel('Predicted Source Distance (km)',fontsize=20)\n",
    "ax.set_xlabel('Time (s)',fontsize=20)\n",
    "ax.axis([0,time[-1], 3, 50],fontsize=20)\n",
    "# set the limits of the plot to the limits of the data\n",
    "#ax.axis([x.min(), x.max(), y.min(), y.max()])\n",
    "fig.colorbar(c, ax=ax)\n",
    "plt.tight_layout()\n",
    "plt.show()"
   ]
  },
  {
   "cell_type": "code",
   "execution_count": null,
   "metadata": {},
   "outputs": [],
   "source": [
    "fig.savefig('fnn_class_norm_icex8.png')"
   ]
  },
  {
   "cell_type": "code",
   "execution_count": null,
   "metadata": {},
   "outputs": [],
   "source": [
    "# FNN REGRESSION TESTING\n",
    "#Import testing data\n",
    "X_test = np.loadtxt('vec_mat_features_icex_src_icex16_hour8_norm.csv',delimiter=\",\")\n",
    "\n",
    "X_test = preprocessing.scale(X_test)\n",
    "\n",
    "print(X_test.shape)\n",
    "\n",
    "predictions = model.predict(X_test)\n"
   ]
  },
  {
   "cell_type": "code",
   "execution_count": null,
   "metadata": {},
   "outputs": [],
   "source": [
    "#Plotting\n",
    "fig1 = plt.figure(figsize = (10,8))\n",
    "plt.scatter(time,np.squeeze(predictions),marker='.',c='r',alpha=0.75)\n",
    "plt.axis([0,time[-1], 3, 50],fontsize=20)\n",
    "plt.ylabel('Predicted Distance (km)',fontsize=20)\n",
    "plt.xlabel('Time (s)',fontsize=20)\n",
    "plt.title('ICEX16 Hour 8 FNN Regression Test Predictions (With Normalization)',fontsize=20)\n",
    "plt.grid()"
   ]
  },
  {
   "cell_type": "code",
   "execution_count": null,
   "metadata": {},
   "outputs": [],
   "source": [
    "fig1.savefig('fnn_reg_norm_icex8.png')"
   ]
  },
  {
   "cell_type": "code",
   "execution_count": null,
   "metadata": {},
   "outputs": [],
   "source": [
    "#CNN Classification testing\n",
    "features_test = np.loadtxt('vec_mat_features_icex_src_icex16_hour8_norm.csv',delimiter=\",\")\n",
    "temp_ytest = np.loadtxt('vec_mat_clabels_icex_src_test2_norm.csv',delimiter=\",\")\n",
    "y_test= []\n",
    "\n",
    "real_test = features_test[:,0::2]\n",
    "imag_test = features_test[:,1::2]\n",
    "X_test = np.zeros((features_test.shape[0],32,32,2))\n",
    "\n",
    "for k in range(features_test.shape[0]):\n",
    "    count = 0\n",
    "    for i in range(32):\n",
    "        for j in range(i,32):\n",
    "            X_test[k,i,j,0] = real_test[k,count]\n",
    "            X_test[k,i,j,1] = imag_test[k,count]\n",
    "            \n",
    "            if i!=j:\n",
    "                X_test[k,j,i,0] = X_test[k,i,j,0]\n",
    "                X_test[k,j,i,1] = -X_test[k,i,j,1]\n",
    "            \n",
    "            count = count + 1\n",
    "\n",
    "for l in range(len(temp_ytest)):\n",
    "    y_test.append(str(temp_ytest[l]))\n",
    "\n",
    "y_test = np.array(y_test)\n",
    "y_test = y_test.ravel()\n",
    "label_test = y_test.ravel()\n",
    "\n",
    "y_test = encode(y_test)\n",
    "class_names = list(y_test.columns.values)\n",
    "\n",
    "\n",
    "predictions = model.predict(X_test)\n",
    "\n",
    "pred_labels = []\n",
    "for i in np.argmax(predictions, axis=1):\n",
    "    pred_labels.append(float(class_names[i]))\n",
    "    \n",
    "\n"
   ]
  },
  {
   "cell_type": "code",
   "execution_count": null,
   "metadata": {},
   "outputs": [],
   "source": [
    "pred_labels_all = pred_labels_all+pred_labels "
   ]
  },
  {
   "cell_type": "code",
   "execution_count": null,
   "metadata": {},
   "outputs": [],
   "source": [
    "ep_startt = 1457852733 #38m\n",
    "time = np.arange(0,len(pred_labels_all)*10.92,10.92) + ep_startt"
   ]
  },
  {
   "cell_type": "code",
   "execution_count": null,
   "metadata": {},
   "outputs": [],
   "source": [
    "time = np.arange(0,len(pred_labels_all)*10.92,10.92)"
   ]
  },
  {
   "cell_type": "code",
   "execution_count": null,
   "metadata": {},
   "outputs": [],
   "source": [
    "floatcn = np.array(class_names).astype(np.float)\n",
    "inds = floatcn.argsort()\n",
    "sorted_predictions = predictions[:,inds]"
   ]
  },
  {
   "cell_type": "code",
   "execution_count": null,
   "metadata": {},
   "outputs": [],
   "source": [
    "window_size = 55\n",
    "\n",
    "i = 0\n",
    "moving_averages = []\n",
    "while i < len(pred_labels_all) - window_size + 1:\n",
    "    this_window = pred_labels_all[i : i + window_size]\n",
    "    window_average = np.sum(this_window) / window_size\n",
    "    moving_averages.append(window_average)\n",
    "    i += 1"
   ]
  },
  {
   "cell_type": "code",
   "execution_count": null,
   "metadata": {},
   "outputs": [],
   "source": [
    "len(moving_averages)"
   ]
  },
  {
   "cell_type": "code",
   "execution_count": null,
   "metadata": {
    "scrolled": false
   },
   "outputs": [],
   "source": [
    "\n",
    "fig, ax = plt.subplots(figsize=(20,8))\n",
    "\n",
    "#c = ax.pcolormesh(time, np.linspace(3,50,95), sorted_predictions.T*100, cmap='jet',vmin=0, vmax=100)\n",
    "ax.scatter(mds.epoch2num(time),pred_labels_all,c='b',marker='.')\n",
    "ax.plot(mds.epoch2num(time[int(window_size/2):int(-(window_size/2))]),moving_averages,'r')\n",
    "ax.set_title('ICEX16 38m-depth CNN-c',fontsize=20)\n",
    "ax.set_ylabel('Predicted Source Distance (km)',fontsize=20)\n",
    "plt.xlabel('Time (Mar. 13, 2016 UTC)',fontsize=20)\n",
    "plt.xticks(fontsize=20)\n",
    "plt.yticks(fontsize=20)\n",
    "#plt.ylim(3,50)\n",
    "ax1 = plt.gca()\n",
    "ax1.xaxis.set_major_formatter(formatter=mds.DateFormatter('%H:%M:%S'))\n",
    "ax.axis([mds.epoch2num(time[0]),mds.epoch2num(time[-1]), 3, 50],fontsize=15)\n",
    "# set the limits of the plot to the limits of the data\n",
    "#ax.axis([x.min(), x.max(), y.min(), y.max()])\n",
    "#fig.colorbar(c, ax=ax)\n",
    "plt.grid()\n",
    "plt.legend(('10-min moving avg.','sample predictions'),fontsize=20,loc='lower right')\n",
    "plt.tight_layout()\n",
    "#fig.autofmt_xdate()\n",
    "plt.savefig('icex_38m_cnnc.png')\n",
    "plt.show()"
   ]
  },
  {
   "cell_type": "code",
   "execution_count": null,
   "metadata": {},
   "outputs": [],
   "source": [
    "\n",
    "fig, ax = plt.subplots(figsize=(20,8))\n",
    "\n",
    "#c = ax.pcolormesh(time, np.linspace(3,50,95), sorted_predictions.T*100, cmap='jet',vmin=0, vmax=100)\n",
    "ax.scatter(time,pred_labels_all,c='b',marker='.')\n",
    "ax.plot(time[int(window_size/2):int(-(window_size/2))],moving_averages,'r')\n",
    "ax.set_title('ICEX16 138m-depth CNN-c',fontsize=20)\n",
    "ax.set_ylabel('Predicted Source Distance (km)',fontsize=20)\n",
    "plt.xlabel('Time (sec)',fontsize=20)\n",
    "plt.xticks(fontsize=20)\n",
    "plt.yticks(fontsize=20)\n",
    "#plt.ylim(3,50)\n",
    "ax1 = plt.gca()\n",
    "#ax1.xaxis.set_major_formatter(formatter=mds.DateFormatter('%H:%M:%S'))\n",
    "ax.axis([time[0],time[-1], 3, 50],fontsize=15)\n",
    "# set the limits of the plot to the limits of the data\n",
    "#ax.axis([x.min(), x.max(), y.min(), y.max()])\n",
    "#fig.colorbar(c, ax=ax)\n",
    "plt.grid()\n",
    "plt.legend(('10-min moving avg.','sample predictions'),fontsize=20)\n",
    "plt.tight_layout()\n",
    "#fig.autofmt_xdate()\n",
    "plt.savefig('icex_138m_cnnc.png')\n",
    "plt.show()"
   ]
  },
  {
   "cell_type": "code",
   "execution_count": null,
   "metadata": {},
   "outputs": [],
   "source": [
    "fig.savefig('cnn5l_class_norm_icex138m.png')"
   ]
  },
  {
   "cell_type": "code",
   "execution_count": null,
   "metadata": {},
   "outputs": [],
   "source": [
    "#CNN Regression Testing\n",
    "\n",
    "features_test = np.loadtxt('vec_mat_features_icex_src_icex16_hour8_norm.csv',delimiter=\",\")\n",
    "\n",
    "real_test = features_test[:,0::2]\n",
    "imag_test = features_test[:,1::2]\n",
    "X_test = np.zeros((features_test.shape[0],32,32,2))\n",
    "\n",
    "for k in range(features_test.shape[0]):\n",
    "    count = 0\n",
    "    for i in range(32):\n",
    "        for j in range(i,32):\n",
    "            X_test[k,i,j,0] = real_test[k,count]\n",
    "            X_test[k,i,j,1] = imag_test[k,count]\n",
    "            \n",
    "            if i!=j:\n",
    "                X_test[k,j,i,0] = X_test[k,i,j,0]\n",
    "                X_test[k,j,i,1] = -X_test[k,i,j,1]\n",
    "            \n",
    "            count = count + 1\n",
    "\n",
    "\n",
    "predictions = model.predict(X_test)\n",
    "time = np.arange(0,predictions.shape[0]*10.2412,10.2412)"
   ]
  },
  {
   "cell_type": "code",
   "execution_count": null,
   "metadata": {},
   "outputs": [],
   "source": [
    "pred_labels_all = pred_labels_all+predictions.tolist() "
   ]
  },
  {
   "cell_type": "code",
   "execution_count": null,
   "metadata": {},
   "outputs": [],
   "source": [
    "print(time.shape)\n",
    "print(len(pred_labels_all))"
   ]
  },
  {
   "cell_type": "code",
   "execution_count": null,
   "metadata": {},
   "outputs": [],
   "source": [
    "\n",
    "fig, ax = plt.subplots(figsize=(20,8))\n",
    "\n",
    "#c = ax.pcolormesh(time, np.linspace(3,50,95), sorted_predictions.T*100, cmap='jet',vmin=0, vmax=100)\n",
    "ax.scatter(mds.epoch2num(time),pred_labels_all,c='b',marker='.')\n",
    "ax.plot(mds.epoch2num(time[int(window_size/2):int(-(window_size/2))]),moving_averages,'r')\n",
    "ax.set_title('ICEX16 38m-depth CNN-r',fontsize=20)\n",
    "ax.set_ylabel('Predicted Source Distance (km)',fontsize=20)\n",
    "plt.xlabel('Time (Mar. 13, 2016 UTC)',fontsize=20)\n",
    "plt.xticks(fontsize=20)\n",
    "plt.yticks(fontsize=20)\n",
    "#plt.ylim(3,50)\n",
    "ax1 = plt.gca()\n",
    "ax1.xaxis.set_major_formatter(formatter=mds.DateFormatter('%H:%M:%S'))\n",
    "ax.axis([mds.epoch2num(time[0]),mds.epoch2num(time[-1]), 3, 50],fontsize=15)\n",
    "# set the limits of the plot to the limits of the data\n",
    "#ax.axis([x.min(), x.max(), y.min(), y.max()])\n",
    "#fig.colorbar(c, ax=ax)\n",
    "plt.grid()\n",
    "plt.legend(('10-min moving avg.','sample predictions'),fontsize=20,loc='lower right')\n",
    "plt.tight_layout()\n",
    "#fig.autofmt_xdate()\n",
    "plt.savefig('icex_38m_cnnr.png')\n",
    "plt.show()"
   ]
  },
  {
   "cell_type": "code",
   "execution_count": null,
   "metadata": {},
   "outputs": [],
   "source": [
    "\n",
    "fig, ax = plt.subplots(figsize=(20,8))\n",
    "\n",
    "#c = ax.pcolormesh(time, np.linspace(3,50,95), sorted_predictions.T*100, cmap='jet',vmin=0, vmax=100)\n",
    "ax.scatter(time,pred_labels_all,c='b',marker='.')\n",
    "ax.plot(time[int(window_size/2):int(-(window_size/2))],moving_averages,'r')\n",
    "ax.set_title('ICEX16 238m-depth CNN-r',fontsize=20)\n",
    "ax.set_ylabel('Predicted Source Distance (km)',fontsize=20)\n",
    "plt.xlabel('Time (sec)',fontsize=20)\n",
    "plt.xticks(fontsize=20)\n",
    "plt.yticks(fontsize=20)\n",
    "#plt.ylim(3,50)\n",
    "ax1 = plt.gca()\n",
    "#ax1.xaxis.set_major_formatter(formatter=mds.DateFormatter('%H:%M:%S'))\n",
    "ax.axis([time[0],time[-1], 3, 50],fontsize=15)\n",
    "# set the limits of the plot to the limits of the data\n",
    "#ax.axis([x.min(), x.max(), y.min(), y.max()])\n",
    "#fig.colorbar(c, ax=ax)\n",
    "plt.grid()\n",
    "plt.legend(('10-min moving avg.','sample predictions'),fontsize=20)\n",
    "plt.tight_layout()\n",
    "#fig.autofmt_xdate()\n",
    "plt.savefig('icex_238m_cnnr.png')\n",
    "plt.show()"
   ]
  },
  {
   "cell_type": "code",
   "execution_count": null,
   "metadata": {},
   "outputs": [],
   "source": [
    "\n",
    "#Plotting\n",
    "fig1 = plt.figure(figsize = (10,8))\n",
    "plt.scatter(time,np.squeeze(predictions),marker='.',c='r',alpha=0.75)\n",
    "plt.axis([0,time[-1], 3, 50],fontsize=20)\n",
    "plt.ylabel('Predicted Distance (km)',fontsize=20)\n",
    "plt.xlabel('Time (s)',fontsize=20)\n",
    "plt.title('ICEX16 138m CNN Regression Test Predictions (With Normalization)',fontsize=20)\n",
    "plt.grid()"
   ]
  },
  {
   "cell_type": "code",
   "execution_count": null,
   "metadata": {},
   "outputs": [],
   "source": [
    "fig1.savefig('cnn5l_reg_norm_icex138m.png')"
   ]
  },
  {
   "cell_type": "code",
   "execution_count": null,
   "metadata": {},
   "outputs": [],
   "source": []
  }
 ],
 "metadata": {
  "kernelspec": {
   "display_name": "Python 3",
   "language": "python",
   "name": "python3"
  },
  "language_info": {
   "codemirror_mode": {
    "name": "ipython",
    "version": 3
   },
   "file_extension": ".py",
   "mimetype": "text/x-python",
   "name": "python",
   "nbconvert_exporter": "python",
   "pygments_lexer": "ipython3",
   "version": "3.6.4"
  }
 },
 "nbformat": 4,
 "nbformat_minor": 2
}
