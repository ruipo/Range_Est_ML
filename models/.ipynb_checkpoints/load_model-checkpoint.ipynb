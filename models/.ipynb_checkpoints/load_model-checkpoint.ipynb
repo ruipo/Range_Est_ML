{
 "cells": [
  {
   "cell_type": "code",
   "execution_count": null,
   "metadata": {},
   "outputs": [],
   "source": [
    "import keras\n",
    "\n",
    "import numpy as np\n",
    "import pandas as pd\n",
    "import seaborn as sn\n",
    "import matplotlib.pyplot as plt\n",
    "import matplotlib.cm as cm\n",
    "from matplotlib.colors import Normalize\n",
    "\n",
    "def encode(series):\n",
    "    return pd.get_dummies(series.astype(str))"
   ]
  },
  {
   "cell_type": "code",
   "execution_count": null,
   "metadata": {},
   "outputs": [],
   "source": [
    "model = keras.models.load_model('cnnr_iter1.h5')\n",
    "model.summary()"
   ]
  },
  {
   "cell_type": "code",
   "execution_count": null,
   "metadata": {},
   "outputs": [],
   "source": [
    "from keras.models import Model\n",
    "\n",
    "layer1_model = Model(inputs=model.input,outputs=model.layers[1].output)\n",
    "layer1bn_model = Model(inputs=model.input,outputs=model.layers[2].output)\n",
    "layer2_model = Model(inputs=model.input,outputs=model.layers[4].output)\n",
    "layer2bn_model = Model(inputs=model.input,outputs=model.layers[5].output)\n",
    "layer3_model = Model(inputs=model.input,outputs=model.layers[7].output)\n",
    "layer3bn_model = Model(inputs=model.input,outputs=model.layers[8].output)\n"
   ]
  },
  {
   "cell_type": "code",
   "execution_count": null,
   "metadata": {},
   "outputs": [],
   "source": [
    "weights = model.get_weights()\n"
   ]
  },
  {
   "cell_type": "code",
   "execution_count": null,
   "metadata": {},
   "outputs": [],
   "source": [
    "weights[16].shape"
   ]
  },
  {
   "cell_type": "code",
   "execution_count": null,
   "metadata": {},
   "outputs": [],
   "source": [
    "plt.hist(weights[30][:,115])\n",
    "plt.show()"
   ]
  },
  {
   "cell_type": "code",
   "execution_count": null,
   "metadata": {},
   "outputs": [],
   "source": [
    "fig = plt.figure(figsize=(20,20))\n",
    "for j in range(40):\n",
    "    plt.subplot(7,7,j+1)\n",
    "    plt.imshow(weights[12][:,:,0,j],cmap='jet',interpolation='hanning')\n",
    "plt.tight_layout()\n",
    "plt.show()\n"
   ]
  },
  {
   "cell_type": "code",
   "execution_count": null,
   "metadata": {},
   "outputs": [],
   "source": [
    "fig = plt.figure(figsize=(20,20))\n",
    "for j in range(52):\n",
    "    plt.subplot(7,8,j+1)\n",
    "    plt.imshow(weights[6][:,:,0,j],cmap='jet',interpolation='hanning')\n",
    "plt.tight_layout()\n",
    "plt.show()"
   ]
  },
  {
   "cell_type": "code",
   "execution_count": null,
   "metadata": {},
   "outputs": [],
   "source": [
    "fig = plt.figure(figsize=(10,10))\n",
    "for j in range(6):\n",
    "    plt.subplot(4,4,j+1)\n",
    "    plt.imshow(weights[0][:,:,0,j],cmap='Greys')\n",
    "plt.tight_layout()\n",
    "plt.show()"
   ]
  },
  {
   "cell_type": "code",
   "execution_count": null,
   "metadata": {},
   "outputs": [],
   "source": [
    "#CNN WEIGHTS\n",
    "f1, ((ax1,ax2,bx1,bx2),(cx1,cx2,dx1,dx2),(ex1,ex2,fx1,fx2),(gx1,gx2,hx1,hx2)\n",
    "    ,(ix1,ix2,jx1,jx2),(kx1,kx2,lx1,lx2),(mx1,mx2,nx1,nx2),(ox1,ox2,px1,px2)) = plt.subplots(8,4,figsize=(20,25))\n",
    "ax1.pcolormesh(weights[0][:,:,0,0], cmap='Greys')\n",
    "ax2.pcolormesh(weights[0][:,:,1,0], cmap='Greys')\n",
    "bx1.pcolormesh(weights[0][:,:,0,1], cmap='jet',vmin=-0.15, vmax=0.15)\n",
    "bx2.pcolormesh(weights[0][:,:,1,1], cmap='jet',vmin=-0.15, vmax=0.15)\n",
    "cx1.pcolormesh(weights[0][:,:,0,2], cmap='jet',vmin=-0.15, vmax=0.15)\n",
    "cx2.pcolormesh(weights[0][:,:,1,2], cmap='jet',vmin=-0.15, vmax=0.15)\n",
    "dx1.pcolormesh(weights[0][:,:,0,3], cmap='jet',vmin=-0.15, vmax=0.15)\n",
    "dx2.pcolormesh(weights[0][:,:,1,3], cmap='jet',vmin=-0.15, vmax=0.15)\n",
    "ex1.pcolormesh(weights[0][:,:,0,4], cmap='jet',vmin=-0.15, vmax=0.15)\n",
    "ex2.pcolormesh(weights[0][:,:,1,4], cmap='jet',vmin=-0.15, vmax=0.15)\n",
    "fx1.pcolormesh(weights[0][:,:,0,5], cmap='jet',vmin=-0.15, vmax=0.15)\n",
    "fx2.pcolormesh(weights[0][:,:,1,5], cmap='jet',vmin=-0.15, vmax=0.15)\n",
    "gx1.pcolormesh(weights[0][:,:,0,6], cmap='jet',vmin=-0.15, vmax=0.15)\n",
    "gx2.pcolormesh(weights[0][:,:,1,6], cmap='jet',vmin=-0.15, vmax=0.15)\n",
    "hx1.pcolormesh(weights[0][:,:,0,7], cmap='jet',vmin=-0.15, vmax=0.15)\n",
    "hx2.pcolormesh(weights[0][:,:,1,7], cmap='jet',vmin=-0.15, vmax=0.15)\n",
    "ix1.pcolormesh(weights[0][:,:,0,8], cmap='jet',vmin=-0.15, vmax=0.15)\n",
    "ix2.pcolormesh(weights[0][:,:,1,8], cmap='jet',vmin=-0.15, vmax=0.15)\n",
    "jx1.pcolormesh(weights[0][:,:,0,9], cmap='jet',vmin=-0.15, vmax=0.15)\n",
    "jx2.pcolormesh(weights[0][:,:,1,9], cmap='jet',vmin=-0.15, vmax=0.15)\n",
    "kx1.pcolormesh(weights[0][:,:,0,10], cmap='jet',vmin=-0.15, vmax=0.15)\n",
    "kx2.pcolormesh(weights[0][:,:,1,10], cmap='jet',vmin=-0.15, vmax=0.15)\n",
    "lx1.pcolormesh(weights[0][:,:,0,11], cmap='jet',vmin=-0.15, vmax=0.15)\n",
    "lx2.pcolormesh(weights[0][:,:,1,11], cmap='jet',vmin=-0.15, vmax=0.15)\n",
    "mx1.pcolormesh(weights[0][:,:,0,12], cmap='jet',vmin=-0.15, vmax=0.15)\n",
    "mx2.pcolormesh(weights[0][:,:,1,12], cmap='jet',vmin=-0.15, vmax=0.15)\n",
    "nx1.pcolormesh(weights[0][:,:,0,13], cmap='jet',vmin=-0.15, vmax=0.15)\n",
    "nx2.pcolormesh(weights[0][:,:,1,13], cmap='jet',vmin=-0.15, vmax=0.15)\n",
    "ox1.pcolormesh(weights[0][:,:,0,14], cmap='jet',vmin=-0.15, vmax=0.15)\n",
    "ox2.pcolormesh(weights[0][:,:,1,14], cmap='jet',vmin=-0.15, vmax=0.15)\n",
    "px1.pcolormesh(weights[0][:,:,0,15], cmap='jet',vmin=-0.15, vmax=0.15)\n",
    "px2.pcolormesh(weights[0][:,:,1,15], cmap='jet',vmin=-0.15, vmax=0.15)\n",
    "\n",
    "plt.tight_layout()\n",
    "plt.show()\n"
   ]
  },
  {
   "cell_type": "code",
   "execution_count": null,
   "metadata": {},
   "outputs": [],
   "source": [
    "f1.savefig('cnnr_l1weights.png')"
   ]
  },
  {
   "cell_type": "code",
   "execution_count": null,
   "metadata": {},
   "outputs": [],
   "source": [
    "#CLASSIFICATION WEIGHTS\n",
    "\n",
    "features = np.loadtxt('vec_mat_features_icex_src_test2_norm.csv',delimiter=\",\")\n",
    "temp_labels = np.loadtxt('vec_mat_clabels_icex_src_test6.csv',delimiter=\",\")\n",
    "labels_t = []\n",
    "\n",
    "X_train = preprocessing.scale(features)\n",
    "\n",
    "for l in range(len(temp_labels)):\n",
    "    labels_t.append(str(temp_labels[l]))\n",
    "    \n",
    "labels_t = np.array(labels_t)\n",
    "labels_t = labels_t.ravel()\n",
    "\n",
    "def encode(series): \n",
    "    return pd.get_dummies(series.astype(str))\n",
    "\n",
    "y_train = encode(labels_t)\n",
    "labels = list(y_train.columns.values)\n",
    "\n",
    "y_train = pd.DataFrame.as_matrix(y_train)"
   ]
  },
  {
   "cell_type": "code",
   "execution_count": null,
   "metadata": {},
   "outputs": [],
   "source": [
    "#REGRESSION WEIGHTS\n",
    "\n",
    "features = np.loadtxt('vec_mat_features_icex_src_test2.csv',delimiter=\",\")\n",
    "labels_unstand = np.loadtxt('vec_mat_rlabels_icex_src_test2.csv',delimiter=\",\")\n",
    "\n",
    "X_train = preprocessing.scale(features)\n",
    "    \n",
    "labels_unstand = labels_unstand.ravel()\n",
    "#y_train,mu,sigma_labels = std_y(labels_unstand)\n",
    "\n",
    "y_train = labels_unstand\n"
   ]
  },
  {
   "cell_type": "code",
   "execution_count": null,
   "metadata": {},
   "outputs": [],
   "source": [
    "from keras import backend as K\n",
    "\n",
    "# with a Sequential model\n",
    "get_1st_layer_output = K.function([model.layers[0].input],\n",
    "                                  [model.layers[0].output])\n",
    "layer1_output = get_1st_layer_output([X_train])[0]\n",
    "np.shape(layer1_output)\n",
    "\n",
    "get_2nd_layer_output = K.function([model.layers[0].input],\n",
    "                                  [model.layers[2].output])\n",
    "layer2_output = get_2nd_layer_output([X_train])[0]\n",
    "np.shape(layer2_output)"
   ]
  },
  {
   "cell_type": "code",
   "execution_count": null,
   "metadata": {},
   "outputs": [],
   "source": [
    "from keras import backend as K\n",
    "\n",
    "# with a Sequential model\n",
    "get_1st_layer_output = K.function([model.layers[0].input],\n",
    "                                  [model.layers[0].output])\n",
    "layer1_output = get_1st_layer_output([X_train])[0]\n",
    "np.shape(layer1_output)\n",
    "\n",
    "get_2nd_layer_output = K.function([model.layers[0].input],\n",
    "                                  [model.layers[2].output])\n",
    "layer2_output = get_2nd_layer_output([X_train])[0]\n",
    "np.shape(layer2_output)\n",
    "\n",
    "get_3rd_layer_output = K.function([model.layers[0].input],\n",
    "                                  [model.layers[4].output])\n",
    "layer3_output = get_3rd_layer_output([X_train])[0]\n",
    "np.shape(layer3_output)\n",
    "\n",
    "get_4th_layer_output = K.function([model.layers[0].input],\n",
    "                                  [model.layers[6].output])\n",
    "layer4_output = get_4th_layer_output([X_train])[0]\n",
    "np.shape(layer4_output)\n",
    "\n",
    "get_5th_layer_output = K.function([model.layers[0].input],\n",
    "                                  [model.layers[8].output])\n",
    "layer5_output = get_5th_layer_output([X_train])[0]\n",
    "np.shape(layer5_output)"
   ]
  },
  {
   "cell_type": "code",
   "execution_count": null,
   "metadata": {},
   "outputs": [],
   "source": [
    "#Classification Sorting\n",
    "floaty_train = labels_t.astype(np.float)\n",
    "inds = floaty_train.argsort()\n",
    "sorted_y_train = floaty_train[inds]\n",
    "sorted_X_train = X_train[inds,:]\n",
    "sorted_l1output = np.array(layer1_output)[inds,:]\n",
    "sorted_l2output = np.array(layer2_output)[inds,:]"
   ]
  },
  {
   "cell_type": "code",
   "execution_count": null,
   "metadata": {},
   "outputs": [],
   "source": [
    "#Regression Sorting\n",
    "inds = y_train.argsort()\n",
    "sorted_y_train = y_train[inds]\n",
    "sorted_X_train = X_train[inds,:]\n",
    "sorted_l1output = np.array(layer1_output)[inds,:]\n",
    "sorted_l2output = np.array(layer2_output)[inds,:]\n",
    "sorted_l3output = np.array(layer3_output)[inds,:]\n",
    "sorted_l4output = np.array(layer4_output)[inds,:]\n",
    "sorted_l5output = np.array(layer5_output)[inds,:]"
   ]
  },
  {
   "cell_type": "code",
   "execution_count": null,
   "metadata": {
    "scrolled": true
   },
   "outputs": [],
   "source": [
    "#1layer FNN Classification Plotting\n",
    "\n",
    "f, ((ax1,ax2),(ax3,ax4)) = plt.subplots(2,2,figsize=(20,10))\n",
    "c1 = ax1.pcolormesh(range(weights[0].shape[1]), range(1056), weights[0], cmap='jet',vmin=-0.5, vmax=0.5)\n",
    "ax1.set_title('Weights of Each Node in Layer 1',fontsize=20)\n",
    "ax1.set_ylabel('Training Feature',fontsize=20)\n",
    "ax1.set_xlabel('Node Number',fontsize=20)\n",
    "ax1.axis([0, weights[0].shape[1]-1, 0, 1055],fontsize=20)\n",
    "\n",
    "c2 = ax2.pcolormesh(range(weights[0].shape[1]), range(1000), sorted_l1output, cmap='jet',vmin=0, vmax=1)\n",
    "ax2.set_title('Output of Layer 1',fontsize=20)\n",
    "ax2.set_ylabel('Data Sample',fontsize=20)\n",
    "ax2.set_xlabel('Node Number',fontsize=20)\n",
    "ax2.axis([0,weights[0].shape[1]-1, 0, 999],fontsize=20)\n",
    "\n",
    "c3 = ax3.pcolormesh(range(weights[2].shape[1]), range(256), weights[2], cmap='jet',vmin=-1, vmax=1)\n",
    "ax3.set_title('Weights of Each Node in Softmax Layer',fontsize=20)\n",
    "ax3.set_ylabel('Training Feature',fontsize=20)\n",
    "ax3.set_xlabel('Node Number',fontsize=20)\n",
    "ax3.axis([0, weights[2].shape[1]-1, 0, 255],fontsize=20)\n",
    "\n",
    "c4 = ax4.pcolormesh(range(weights[2].shape[1]), range(1000), sorted_l2output, cmap='jet',vmin=0, vmax=1)\n",
    "ax4.set_title('Output of Softmax Layer',fontsize=20)\n",
    "ax4.set_ylabel('Data Sample',fontsize=20)\n",
    "ax4.set_xlabel('Node Number',fontsize=20)\n",
    "ax4.axis([0,weights[2].shape[1]-1, 0, 999],fontsize=20)\n",
    "\n",
    "f.colorbar(c1,ax = ax1)\n",
    "f.colorbar(c2,ax = ax2)\n",
    "f.colorbar(c3,ax = ax3)\n",
    "f.colorbar(c4,ax = ax4)\n",
    "f.tight_layout()"
   ]
  },
  {
   "cell_type": "code",
   "execution_count": null,
   "metadata": {},
   "outputs": [],
   "source": [
    "f.savefig('fnn1l_class_test6.png')"
   ]
  },
  {
   "cell_type": "code",
   "execution_count": null,
   "metadata": {},
   "outputs": [],
   "source": [
    "#Plotting (1layer Fnn)\n",
    "f, (ax1, ax2,ax3) = plt.subplots(1,3,figsize=(20,10))\n",
    "c1 = ax1.pcolormesh(range(1056), sorted_y_train, sorted_X_train, cmap='jet',vmin=-1, vmax=1)\n",
    "ax1.set_title('Training Data',fontsize=20)\n",
    "ax1.set_ylabel('Source Distance (km)',fontsize=20)\n",
    "ax1.set_xlabel('Training Feature',fontsize=20)\n",
    "ax1.axis([0,1055,3,50],fontsize=20)\n",
    "\n",
    "c2 = ax2.pcolormesh(range(weights[0].shape[1]), range(1056), weights[0], cmap='jet',vmin=-0.1, vmax=0.1)\n",
    "ax2.set_title('Weights of Each Node in Layer 1',fontsize=20)\n",
    "ax2.set_ylabel('Training Feature',fontsize=20)\n",
    "ax2.set_xlabel('Node Number',fontsize=20)\n",
    "ax2.axis([0, weights[0].shape[1]-1, 0, 1055],fontsize=20)\n",
    "\n",
    "c3 = ax3.pcolormesh(range(weights[0].shape[1]), sorted_y_train, sorted_l2output, cmap='jet',vmin=0, vmax=1)\n",
    "ax3.set_title('Output of Layer 1',fontsize=20)\n",
    "ax3.set_ylabel('Source Distance (km)',fontsize=20)\n",
    "ax3.set_xlabel('Node Number',fontsize=20)\n",
    "ax3.axis([0,weights[0].shape[1]-1, 3,50],fontsize=20)\n",
    "\n",
    "f.colorbar(c1,ax = ax1)\n",
    "f.colorbar(c2,ax = ax2)\n",
    "f.colorbar(c3,ax = ax3)\n",
    "f.tight_layout()"
   ]
  },
  {
   "cell_type": "code",
   "execution_count": null,
   "metadata": {},
   "outputs": [],
   "source": [
    "f1, ((ax1,ax2),(ax3,ax4)) = plt.subplots(2,2,figsize=(20,10))\n",
    "\n",
    "c1 = ax1.pcolormesh(range(weights[2].shape[1]), sorted_y_train, sorted_l2output, cmap='jet',vmin=0, vmax=1)\n",
    "ax1.set_title('Output of Layer 2',fontsize=20)\n",
    "ax1.set_ylabel('Source Distance (km)',fontsize=20)\n",
    "ax1.set_xlabel('Node Number',fontsize=20)\n",
    "ax1.axis([0,weights[2].shape[1]-1, 3, 50],fontsize=20)\n",
    "\n",
    "c2 = ax2.pcolormesh(range(weights[4].shape[1]), sorted_y_train, sorted_l3output, cmap='jet',vmin=0, vmax=1)\n",
    "ax2.set_title('Output of Layer 3',fontsize=20)\n",
    "ax2.set_ylabel('Source Distance (km)',fontsize=20)\n",
    "ax2.set_xlabel('Node Number',fontsize=20)\n",
    "ax2.axis([0,weights[4].shape[1]-1, 3, 50],fontsize=20)\n",
    "\n",
    "c3 = ax3.pcolormesh(range(weights[6].shape[1]), sorted_y_train, sorted_l4output, cmap='jet',vmin=0, vmax=1)\n",
    "ax3.set_title('Output of Layer 4',fontsize=20)\n",
    "ax3.set_ylabel('Source Distance (km)',fontsize=20)\n",
    "ax3.set_xlabel('Node Number',fontsize=20)\n",
    "ax3.axis([0,weights[6].shape[1]-1, 3, 50],fontsize=20)\n",
    "\n",
    "c4 = ax4.pcolormesh(range(weights[8].shape[1]), sorted_y_train, sorted_l5output, cmap='jet',vmin=0, vmax=1)\n",
    "ax4.set_title('Output of Layer 5',fontsize=20)\n",
    "ax4.set_ylabel('Source Distance (km)',fontsize=20)\n",
    "ax4.set_xlabel('Node Number',fontsize=20)\n",
    "ax4.axis([0,weights[8].shape[1]-1, 3, 50],fontsize=20)\n",
    "\n",
    "f1.colorbar(c1,ax = ax1)\n",
    "f1.colorbar(c2,ax = ax2)\n",
    "f1.colorbar(c4,ax = ax4)\n",
    "f1.colorbar(c3,ax = ax3)\n",
    "f1.tight_layout()"
   ]
  },
  {
   "cell_type": "code",
   "execution_count": null,
   "metadata": {},
   "outputs": [],
   "source": [
    "f.savefig('fnn5l_reg_weights_selu.png')\n",
    "f1.savefig('fnn5l_reg_weights2-4_selu.png')"
   ]
  },
  {
   "cell_type": "code",
   "execution_count": null,
   "metadata": {},
   "outputs": [],
   "source": [
    "#FNN CLASSIFICATION\n",
    "\n",
    "features = np.loadtxt('vec_mat_features_icex_src_testn.csv',delimiter=\",\")\n",
    "temp_labels = np.loadtxt('vec_mat_clabels_icex_src_testn.csv',delimiter=\",\")\n",
    "labels_t = []\n",
    "\n",
    "X_test = preprocessing.scale(features)\n",
    "\n",
    "for l in range(len(temp_labels)):\n",
    "    labels_t.append(str(temp_labels[l]))\n",
    "    \n",
    "labels_t = np.array(labels_t)\n",
    "labels_t = labels_t.ravel()\n",
    "\n",
    "def encode(series): \n",
    "    return pd.get_dummies(series.astype(str))\n",
    "\n",
    "y_test = encode(labels_t)\n",
    "labels = list(y_test.columns.values)\n",
    "\n",
    "y_test = pd.DataFrame.as_matrix(y_test)\n",
    "\n",
    "print(X_test.shape)\n",
    "print(y_test.shape)\n",
    "\n",
    "test_loss, test_acc = model.evaluate(X_test,y_test)\n",
    "print('Test acc:', test_acc)\n",
    "\n",
    "predictions = model.predict(X_test)\n",
    "\n",
    "pred_labels = []\n",
    "for i in np.argmax(predictions, axis=1):\n",
    "    pred_labels.append(labels[i])"
   ]
  },
  {
   "cell_type": "code",
   "execution_count": null,
   "metadata": {},
   "outputs": [],
   "source": [
    "#sort output for plotting\n",
    "\n",
    "floaty_test = labels_t.astype(np.float)\n",
    "inds = floaty_test.argsort()\n",
    "sorted_y_test = floaty_test[inds]\n",
    "\n",
    "floaty_pred = np.array(pred_labels).astype(np.float)\n",
    "sorted_y_pred = floaty_pred[inds]"
   ]
  },
  {
   "cell_type": "code",
   "execution_count": null,
   "metadata": {},
   "outputs": [],
   "source": [
    "\n",
    "fig, ax = plt.subplots(figsize=(10,6))\n",
    "\n",
    "c = ax.pcolormesh(sorted_y_test, np.linspace(3,50,95), predictions.T*100, cmap='jet',vmin=0, vmax=100)\n",
    "ax.plot([3,50],[3,50],'g--')\n",
    "ax.set_title('FNN Classification Result (With Normalization)',fontsize=20)\n",
    "ax.set_ylabel('Predicted Source Distance (km)',fontsize=20)\n",
    "ax.set_xlabel('Actual Source Distance (km)',fontsize=20)\n",
    "ax.axis([3,50, 3, 50],fontsize=20)\n",
    "# set the limits of the plot to the limits of the data\n",
    "#ax.axis([x.min(), x.max(), y.min(), y.max()])\n",
    "fig.colorbar(c, ax=ax)\n",
    "plt.tight_layout()\n",
    "plt.show()"
   ]
  },
  {
   "cell_type": "code",
   "execution_count": null,
   "metadata": {},
   "outputs": [],
   "source": [
    "fig.savefig('fnn5l_class_norm.png')"
   ]
  },
  {
   "cell_type": "code",
   "execution_count": null,
   "metadata": {},
   "outputs": [],
   "source": [
    "# FNN REGRESSION TESTING\n",
    "#Import testing data\n",
    "X_test = np.loadtxt('vec_mat_features_icex_src_test2_norm.csv',delimiter=\",\")\n",
    "temp_ytest = np.loadtxt('vec_mat_rlabels_icex_src_test2_norm.csv',delimiter=\",\")\n",
    "y_test= []\n",
    "\n",
    "X_test = preprocessing.scale(X_test)\n",
    "\n",
    "temp_ytest = temp_ytest.ravel()\n",
    "y_test = temp_ytest\n",
    "\n",
    "print(X_test.shape)\n",
    "print(y_test.shape)\n",
    "\n",
    "test_loss, test_acc = model.evaluate(X_test,y_test)\n",
    "print('Test mape:', test_acc)\n",
    "\n",
    "predictions = model.predict(X_test)\n",
    "diff = abs((np.transpose(predictions))-(y_test))\n",
    "error = diff[diff<1]\n",
    "percent_correct = (len(error))/len(y_test)\n",
    "\n",
    "print('Testing percent within 1km:', percent_correct*100)"
   ]
  },
  {
   "cell_type": "code",
   "execution_count": null,
   "metadata": {},
   "outputs": [],
   "source": [
    "diff"
   ]
  },
  {
   "cell_type": "code",
   "execution_count": null,
   "metadata": {},
   "outputs": [],
   "source": [
    "inds = y_test.argsort()\n",
    "sorted_y_test = y_test[inds]\n",
    "\n",
    "sorted_y_pred = np.squeeze(predictions)[inds]\n",
    "\n",
    "#Plotting\n",
    "colors = sorted_y_pred-sorted_y_test\n",
    "norm = Normalize()\n",
    "norm.autoscale(colors)\n",
    "colormap = cm.rainbow\n",
    "fig1 = plt.figure(figsize = (10,8))\n",
    "plt.scatter(sorted_y_test,sorted_y_pred,marker='.',c='k',alpha=0.75)\n",
    "plt.plot(sorted_y_test,sorted_y_test,'r',linewidth = 2)\n",
    "plt.quiver(sorted_y_test, sorted_y_test, np.zeros(len(sorted_y_test)), sorted_y_pred-sorted_y_test,color=colormap(norm(colors)),angles='xy', scale_units='xy', scale=1.,width=0.002)\n",
    "plt.axis([3, 50, 3, 50],fontsize=20)\n",
    "plt.ylabel('Predicted Distance (km)',fontsize=20)\n",
    "plt.xlabel('Actual Distance (km)',fontsize=20)\n",
    "plt.title('5-Layer FNN Regression Test Predictions (With Normalization)',fontsize=20)\n",
    "plt.grid()"
   ]
  },
  {
   "cell_type": "code",
   "execution_count": null,
   "metadata": {},
   "outputs": [],
   "source": [
    "fig1.savefig('fnn5l_reg_norm.png')"
   ]
  },
  {
   "cell_type": "code",
   "execution_count": null,
   "metadata": {},
   "outputs": [],
   "source": [
    "#CNN Classification testing\n",
    "features_test = np.loadtxt('vec_mat_features_icex_src_test2_norm_m10db.csv',delimiter=\",\")\n",
    "temp_ytest = np.loadtxt('vec_mat_clabels_icex_src_test2_norm.csv',delimiter=\",\")\n",
    "y_test= []\n",
    "\n",
    "real_test = features_test[:,0::2]\n",
    "imag_test = features_test[:,1::2]\n",
    "X_test = np.zeros((features_test.shape[0],32,32,2))\n",
    "\n",
    "for k in range(features_test.shape[0]):\n",
    "    count = 0\n",
    "    for i in range(32):\n",
    "        for j in range(i,32):\n",
    "            X_test[k,i,j,0] = real_test[k,count]\n",
    "            X_test[k,i,j,1] = imag_test[k,count]\n",
    "            \n",
    "            if i!=j:\n",
    "                X_test[k,j,i,0] = X_test[k,i,j,0]\n",
    "                X_test[k,j,i,1] = -X_test[k,i,j,1]\n",
    "            \n",
    "            count = count + 1\n",
    "\n",
    "#X_test[k,:,:,0] = X_test[k,:,:,0]/np.amax(np.abs(X_test[k,:,:,0]))\n",
    "#X_test[k,:,:,1] = X_test[k,:,:,1]/np.amax(np.abs(X_test[k,:,:,1]))\n",
    "\n",
    "\n",
    "for l in range(len(temp_ytest)):\n",
    "    y_test.append(str(temp_ytest[l]))\n",
    "\n",
    "y_test = np.array(y_test)\n",
    "y_test = y_test.ravel()\n",
    "label_test = y_test.ravel()\n",
    "\n",
    "y_test = encode(y_test)\n",
    "class_names = list(y_test.columns.values)\n",
    "y_test = pd.DataFrame.as_matrix(y_test)\n",
    "\n",
    "#CNN Classification\n",
    "test_loss, test_acc = model.evaluate(X_test,y_test)\n",
    "\n",
    "print('Test accuracy:', test_acc)\n",
    "\n",
    "predictions = model.predict(X_test)\n",
    "\n",
    "pred_labels = []\n",
    "for i in np.argmax(predictions, axis=1):\n",
    "    pred_labels.append(class_names[i])"
   ]
  },
  {
   "cell_type": "code",
   "execution_count": null,
   "metadata": {},
   "outputs": [],
   "source": [
    "#sort output for plotting\n",
    "\n",
    "floaty_test = label_test.astype(np.float)\n",
    "inds = floaty_test.argsort()\n",
    "sorted_y_test = floaty_test[inds]\n",
    "\n",
    "floaty_pred = np.array(pred_labels).astype(np.float)\n",
    "sorted_y_pred = floaty_pred[inds]\n",
    "\n"
   ]
  },
  {
   "cell_type": "code",
   "execution_count": null,
   "metadata": {},
   "outputs": [],
   "source": [
    "\n",
    "fig, ax = plt.subplots(figsize=(10,6))\n",
    "\n",
    "c = ax.pcolormesh(sorted_y_test, np.linspace(3,50,95), predictions.T*100, cmap='jet',vmin=0, vmax=100)\n",
    "ax.plot([3,50],[3,50],'g--')\n",
    "ax.set_title('CNN Classification Result (SNR = -10dB)',fontsize=20)\n",
    "ax.set_ylabel('Predicted Source Distance (km)',fontsize=20)\n",
    "ax.set_xlabel('Actual Source Distance (km)',fontsize=20)\n",
    "ax.axis([3,50, 3, 50],fontsize=20)\n",
    "# set the limits of the plot to the limits of the data\n",
    "#ax.axis([x.min(), x.max(), y.min(), y.max()])\n",
    "fig.colorbar(c, ax=ax)\n",
    "plt.tight_layout()\n",
    "plt.show()"
   ]
  },
  {
   "cell_type": "code",
   "execution_count": null,
   "metadata": {},
   "outputs": [],
   "source": [
    "fig1.savefig('cnnc_test2_m10db.png')"
   ]
  },
  {
   "cell_type": "code",
   "execution_count": null,
   "metadata": {},
   "outputs": [],
   "source": [
    "sorted_y_pred = np.array([float(numeric_string) for numeric_string in pred_labels])\n",
    "sorted_y_test = np.array([float(numeric_string) for numeric_string in label_test])\n",
    "\n",
    "colors = sorted_y_pred-sorted_y_test\n",
    "norm = Normalize()\n",
    "norm.autoscale(colors)\n",
    "colormap = cm.rainbow\n",
    "fig1 = plt.figure(figsize = (10,8))\n",
    "plt.scatter(sorted_y_test,sorted_y_pred,marker='.',c='k',alpha=0.75)\n",
    "plt.plot(sorted_y_test,sorted_y_test,'r',linewidth = 2)\n",
    "plt.quiver(sorted_y_test, sorted_y_test, np.zeros(len(sorted_y_test)), sorted_y_pred-sorted_y_test,color=colormap(norm(colors)),angles='xy', scale_units='xy', scale=1.,width=0.002)\n",
    "plt.axis([3, 50, 3, 50],fontsize=20)\n",
    "plt.ylabel('Predicted Distance (km)',fontsize=20)\n",
    "plt.xlabel('Actual Distance (km)',fontsize=20)\n",
    "plt.title('CNN-c Test Predictions (SNR = -10dB)',fontsize=20)\n",
    "plt.grid()"
   ]
  },
  {
   "cell_type": "code",
   "execution_count": null,
   "metadata": {},
   "outputs": [],
   "source": [
    "#CNN Regression Testing\n",
    "\n",
    "features_test = np.loadtxt('vec_mat_features_icex_src_test2_norm_m10db.csv',delimiter=\",\")\n",
    "temp_ytest = np.loadtxt('vec_mat_rlabels_icex_src_test2_norm.csv',delimiter=\",\")\n",
    "y_test= []\n",
    "\n",
    "real_test = features_test[:,0::2]\n",
    "imag_test = features_test[:,1::2]\n",
    "X_test = np.zeros((features_test.shape[0],32,32,2))\n",
    "\n",
    "for k in range(features_test.shape[0]):\n",
    "    count = 0\n",
    "    for i in range(32):\n",
    "        for j in range(i,32):\n",
    "            X_test[k,i,j,0] = real_test[k,count]\n",
    "            X_test[k,i,j,1] = imag_test[k,count]\n",
    "            \n",
    "            if i!=j:\n",
    "                X_test[k,j,i,0] = X_test[k,i,j,0]\n",
    "                X_test[k,j,i,1] = -X_test[k,i,j,1]\n",
    "            \n",
    "            count = count + 1\n",
    "\n",
    "    #X_test[k,:,:,0] = X_test[k,:,:,0]/np.amax(np.abs(X_test[k,:,:,0]))\n",
    "    #X_test[k,:,:,1] = X_test[k,:,:,1]/np.amax(np.abs(X_test[k,:,:,1]))\n",
    "\n",
    "temp_ytest = temp_ytest.ravel()\n",
    "y_test = temp_ytest\n",
    "\n",
    "test_loss, test_acc = model.evaluate(X_test,y_test)\n",
    "print('Test mape:', test_acc)\n",
    "\n",
    "predictions = model.predict(X_test)\n",
    "diff = abs((np.transpose(predictions))-(y_test))\n",
    "error = diff[diff>1]\n",
    "percent_correct = (len(y_test)-len(error))/len(y_test)\n",
    "print('Percent within 1km:', percent_correct*100)"
   ]
  },
  {
   "cell_type": "code",
   "execution_count": null,
   "metadata": {},
   "outputs": [],
   "source": [
    "###### np.squeeze(predictions)"
   ]
  },
  {
   "cell_type": "code",
   "execution_count": null,
   "metadata": {},
   "outputs": [],
   "source": [
    "inds = y_test.argsort()\n",
    "sorted_y_test = y_test[inds]\n",
    "\n",
    "sorted_y_pred = np.squeeze(predictions)[inds]\n",
    "\n",
    "#Plotting\n",
    "colors = sorted_y_pred-sorted_y_test\n",
    "norm = Normalize()\n",
    "norm.autoscale(colors)\n",
    "colormap = cm.rainbow\n",
    "fig1 = plt.figure(figsize = (10,8))\n",
    "plt.scatter(sorted_y_test,sorted_y_pred,marker='.',c='k',alpha=0.75)\n",
    "plt.plot(sorted_y_test,sorted_y_test,'r',linewidth = 2)\n",
    "plt.quiver(sorted_y_test, sorted_y_test, np.zeros(len(sorted_y_test)), sorted_y_pred-sorted_y_test,color=colormap(norm(colors)),angles='xy', scale_units='xy', scale=1.,width=0.002)\n",
    "plt.axis([3, 50, 3, 50],fontsize=20)\n",
    "plt.ylabel('Predicted Distance (km)',fontsize=20)\n",
    "plt.xlabel('Actual Distance (km)',fontsize=20)\n",
    "plt.title('CNN-r Test Predictions (SNR = -10dB)',fontsize=20)\n",
    "plt.grid()"
   ]
  },
  {
   "cell_type": "code",
   "execution_count": null,
   "metadata": {},
   "outputs": [],
   "source": [
    "fig1.savefig('cnnr_test2_m10db.png')"
   ]
  },
  {
   "cell_type": "code",
   "execution_count": null,
   "metadata": {},
   "outputs": [],
   "source": [
    "mfp_pred = np.loadtxt('mfp_teste_pred.csv',delimiter=\",\")\n",
    "mfp_act = np.loadtxt('mfp_test2_act.csv',delimiter=\",\")"
   ]
  },
  {
   "cell_type": "code",
   "execution_count": null,
   "metadata": {},
   "outputs": [],
   "source": [
    "#Plotting\n",
    "colors = mfp_pred-mfp_act\n",
    "norm = Normalize()\n",
    "norm.autoscale(colors)\n",
    "colormap = cm.rainbow\n",
    "fig1 = plt.figure(figsize = (10,8))\n",
    "plt.scatter(mfp_act,mfp_pred,marker='.',c='k',alpha=0.75)\n",
    "plt.plot(mfp_act,mfp_act,'r',linewidth = 2)\n",
    "plt.quiver(mfp_act, mfp_act, np.zeros(len(mfp_act)), mfp_pred-mfp_act,color=colormap(norm(colors)),angles='xy', scale_units='xy', scale=1.,width=0.002)\n",
    "plt.axis([3, 50, 3, 50],fontsize=20)\n",
    "plt.ylabel('Predicted Distance (km)',fontsize=20)\n",
    "plt.xlabel('Actual Distance (km)',fontsize=20)\n",
    "plt.title('MFP Predictions (0.5% increase to BL strength)',fontsize=20)\n",
    "plt.grid()"
   ]
  },
  {
   "cell_type": "code",
   "execution_count": null,
   "metadata": {},
   "outputs": [],
   "source": [
    "fig1.savefig('mfp_teste.png')"
   ]
  },
  {
   "cell_type": "code",
   "execution_count": null,
   "metadata": {},
   "outputs": [],
   "source": [
    "layer3_output = layer3_model.predict(X_test)\n",
    "print(layer3_output.shape)\n",
    "layer2_output = layer2_model.predict(X_test)\n",
    "print(layer2_output.shape)\n",
    "layer1_output = layer1_model.predict(X_test)\n",
    "print(layer1_output.shape)"
   ]
  },
  {
   "cell_type": "code",
   "execution_count": null,
   "metadata": {},
   "outputs": [],
   "source": [
    "fig = plt.figure(figsize=(20,20))\n",
    "for j in range(40):\n",
    "    plt.subplot(7,7,j+1)\n",
    "    plt.imshow(abs(layer3_output[1,:,:,j]),cmap='jet',interpolation='hanning')\n",
    "plt.tight_layout()\n",
    "plt.show()"
   ]
  },
  {
   "cell_type": "code",
   "execution_count": null,
   "metadata": {},
   "outputs": [],
   "source": [
    "fig = plt.figure(figsize=(20,20))\n",
    "for j in range(52):\n",
    "    plt.subplot(7,8,j+1)\n",
    "    plt.imshow(abs(layer2_output[1,:,:,j]),cmap='jet',interpolation='hanning')\n",
    "plt.tight_layout()\n",
    "plt.show()"
   ]
  },
  {
   "cell_type": "code",
   "execution_count": null,
   "metadata": {},
   "outputs": [],
   "source": [
    "fig = plt.figure(figsize=(10,10))\n",
    "for j in range(16):\n",
    "    plt.subplot(4,4,j+1)\n",
    "    plt.imshow(abs(layer1_output[1,:,:,j]),cmap='jet',interpolation='hanning')\n",
    "plt.tight_layout()\n",
    "plt.show()"
   ]
  },
  {
   "cell_type": "code",
   "execution_count": null,
   "metadata": {},
   "outputs": [],
   "source": [
    "fig = plt.figure(figsize=(5,5))\n",
    "for j in range(2):\n",
    "    plt.subplot(1,2,j+1)\n",
    "    plt.imshow(X_test[1,:,:,j],cmap='jet',interpolation='hanning')\n",
    "plt.tight_layout()\n",
    "plt.show()"
   ]
  },
  {
   "cell_type": "code",
   "execution_count": null,
   "metadata": {},
   "outputs": [],
   "source": [
    "arg = np.where(y_test == 15)"
   ]
  }
 ],
 "metadata": {
  "kernelspec": {
   "display_name": "Python 3",
   "language": "python",
   "name": "python3"
  },
  "language_info": {
   "codemirror_mode": {
    "name": "ipython",
    "version": 3
   },
   "file_extension": ".py",
   "mimetype": "text/x-python",
   "name": "python",
   "nbconvert_exporter": "python",
   "pygments_lexer": "ipython3",
   "version": "3.6.4"
  }
 },
 "nbformat": 4,
 "nbformat_minor": 2
}
