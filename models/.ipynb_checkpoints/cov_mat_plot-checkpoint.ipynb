{
 "cells": [
  {
   "cell_type": "code",
   "execution_count": null,
   "metadata": {},
   "outputs": [],
   "source": [
    "import keras\n",
    "\n",
    "import numpy as np\n",
    "\n",
    "import matplotlib.pyplot as plt\n",
    "from matplotlib.animation import FuncAnimation\n",
    "import matplotlib.animation as animation\n",
    "import matplotlib.cm as cm\n",
    "from matplotlib.colors import Normalize"
   ]
  },
  {
   "cell_type": "code",
   "execution_count": null,
   "metadata": {},
   "outputs": [],
   "source": [
    "# Import Data\n",
    "\n",
    "features_test = np.loadtxt('vec_mat_features_icex_src_0.01train_norm.csv',delimiter=\",\")\n",
    "temp_ytest = np.loadtxt('vec_mat_rlabels_icex_src_0.01train.csv',delimiter=\",\")\n",
    "y_test= []\n",
    "\n",
    "real_test = features_test[:,0::2]\n",
    "imag_test = features_test[:,1::2]\n",
    "X_test = np.zeros((features_test.shape[0],32,32,2))\n",
    "\n",
    "for k in range(features_test.shape[0]):\n",
    "    count = 0\n",
    "    for i in range(32):\n",
    "        for j in range(i,32):\n",
    "            X_test[k,i,j,0] = real_test[k,count]\n",
    "            X_test[k,i,j,1] = imag_test[k,count]\n",
    "            \n",
    "            if i!=j:\n",
    "                X_test[k,j,i,0] = X_test[k,i,j,0]\n",
    "                X_test[k,j,i,1] = -X_test[k,i,j,1]\n",
    "            \n",
    "            count = count + 1\n",
    "\n",
    "    #X_test[k,:,:,0] = X_test[k,:,:,0]/np.amax(np.abs(X_test[k,:,:,0]))\n",
    "    #X_test[k,:,:,1] = X_test[k,:,:,1]/np.amax(np.abs(X_test[k,:,:,1]))\n",
    "\n",
    "temp_ytest = temp_ytest.ravel()\n",
    "y_test = temp_ytest\n",
    "\n",
    "inds = y_test.argsort()\n",
    "sorted_ytrain = y_test[inds]\n",
    "sorted_xtrain = X_test[inds,:,:,:]"
   ]
  },
  {
   "cell_type": "code",
   "execution_count": null,
   "metadata": {},
   "outputs": [],
   "source": [
    "def animate(frame):\n",
    "    \"\"\"\n",
    "    Animation function. Takes the current frame number (to select the potion of\n",
    "    data to plot) and a line object to update.\n",
    "    \"\"\"\n",
    "\n",
    "    # Not strictly neccessary, just so we know we are stealing these from\n",
    "    # the global scope\n",
    "    global sorted_xtrain, image\n",
    "\n",
    "    # We want up-to and _including_ the frame'th element\n",
    "    image.set_array(sorted_xtrain[frame,:,:,1])\n",
    "\n",
    "    return image\n",
    "\n",
    "\n",
    "# Now we can do the plotting!\n",
    "fig, ax = plt.subplots(1, figsize=(1, 1))\n",
    "# Remove a bunch of stuff to make sure we only 'see' the actual imshow\n",
    "# Stretch to fit the whole plane\n",
    "fig.subplots_adjust(0, 0, 1, 1)\n",
    "# Remove bounding line\n",
    "ax.axis(\"off\")\n",
    "\n",
    "# Initialise our plot. Make sure you set vmin and vmax!\n",
    "image = ax.imshow(sorted_xtrain[0,:,:,1], vmin=-0.1, vmax=0.1)\n",
    "\n",
    "ani = FuncAnimation(\n",
    "    # Your Matplotlib Figure object\n",
    "    fig,\n",
    "    # The function that does the updating of the Figure\n",
    "    animate,\n",
    "    # Frame information (here just frame number)\n",
    "    np.arange(sorted_ytrain.shape[0]),\n",
    "    # Extra arguments to the animate function\n",
    "    fargs=[],\n",
    "    # Frame-time in ms; i.e. for a given frame-rate x, 1000/x\n",
    "    interval=1000 / 25\n",
    ")\n",
    "\n",
    "# Try to set the DPI to the actual number of pixels you're plotting\n",
    "ani.save(\"test.html\", dpi=1024)"
   ]
  },
  {
   "cell_type": "code",
   "execution_count": null,
   "metadata": {},
   "outputs": [],
   "source": [
    "writer = animation.writers['html'](fps=30)\n",
    "\n",
    "ani.save('test.mp4',writer=writer,dpi=1024)"
   ]
  },
  {
   "cell_type": "code",
   "execution_count": null,
   "metadata": {},
   "outputs": [],
   "source": [
    "import cv2\n",
    "import os\n",
    "\n",
    "image_folder = 'test_frames'\n",
    "video_name = 'test.avi'\n",
    "\n",
    "images = [img for img in os.listdir(image_folder) if img.endswith(\".png\")]\n",
    "frame = cv2.imread(os.path.join(image_folder, images[0]))\n",
    "height, width, layers = frame.shape\n",
    "\n",
    "video = cv2.VideoWriter(video_name, 0, 1, (width,height))\n",
    "\n",
    "for image in images:\n",
    "    video.write(cv2.imread(os.path.join(image_folder, image)))\n",
    "\n",
    "cv2.destroyAllWindows()\n",
    "video.release()"
   ]
  },
  {
   "cell_type": "code",
   "execution_count": null,
   "metadata": {},
   "outputs": [],
   "source": []
  }
 ],
 "metadata": {
  "kernelspec": {
   "display_name": "Python 3",
   "language": "python",
   "name": "python3"
  },
  "language_info": {
   "codemirror_mode": {
    "name": "ipython",
    "version": 3
   },
   "file_extension": ".py",
   "mimetype": "text/x-python",
   "name": "python",
   "nbconvert_exporter": "python",
   "pygments_lexer": "ipython3",
   "version": "3.6.4"
  }
 },
 "nbformat": 4,
 "nbformat_minor": 2
}
