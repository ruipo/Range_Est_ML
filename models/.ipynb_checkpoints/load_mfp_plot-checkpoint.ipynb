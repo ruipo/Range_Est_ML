{
 "cells": [
  {
   "cell_type": "code",
   "execution_count": null,
   "metadata": {},
   "outputs": [],
   "source": [
    "import numpy as np\n",
    "import matplotlib.pyplot as plt\n",
    "import matplotlib.cm as cm\n",
    "from matplotlib.colors import Normalize"
   ]
  },
  {
   "cell_type": "code",
   "execution_count": null,
   "metadata": {},
   "outputs": [],
   "source": [
    "mfp_pred1 = np.loadtxt('mfp_test1_pred.csv',delimiter=\",\") #216.5m\n",
    "mfp_pred6 = np.loadtxt('mfp_test6_pred.csv',delimiter=\",\") #213.5m\n",
    "mfp_pred7 = np.loadtxt('mfp_test7_pred.csv',delimiter=\",\") #219.5m\n",
    "mfp_pred8 = np.loadtxt('mfp_test8_pred.csv',delimiter=\",\") #215.5m\n",
    "mfp_pred9 = np.loadtxt('mfp_test9_pred.csv',delimiter=\",\") #217.5m\n",
    "\n",
    "temp_ytest = np.loadtxt('vec_mat_rlabels_swellex_109hz2_test.csv',delimiter=\",\")\n",
    "y_test= []\n",
    "temp_ytest = temp_ytest.ravel()\n",
    "y_test = temp_ytest\n",
    "inds = y_test.argsort()\n",
    "sorted_y_test = y_test[inds]"
   ]
  }
 ],
 "metadata": {
  "kernelspec": {
   "display_name": "Python 3",
   "language": "python",
   "name": "python3"
  },
  "language_info": {
   "codemirror_mode": {
    "name": "ipython",
    "version": 3
   },
   "file_extension": ".py",
   "mimetype": "text/x-python",
   "name": "python",
   "nbconvert_exporter": "python",
   "pygments_lexer": "ipython3",
   "version": "3.6.4"
  }
 },
 "nbformat": 4,
 "nbformat_minor": 2
}
