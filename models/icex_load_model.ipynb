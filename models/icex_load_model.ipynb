{
 "cells": [
  {
   "cell_type": "code",
   "execution_count": null,
   "metadata": {},
   "outputs": [],
   "source": [
    "import keras\n",
    "import h5py\n",
    "import numpy as np\n",
    "import matplotlib.pyplot as plt\n",
    "import pandas as pd\n",
    "import matplotlib.cm as cm\n",
    "from matplotlib.colors import Normalize\n",
    "\n",
    "def encode(series):\n",
    "    return pd.get_dummies(series.astype(str))\n",
    "\n",
    "def mean_absolute_error(y_true, y_pred): \n",
    "    y_true, y_pred = np.array(np.squeeze(y_true)), np.array(np.squeeze(y_pred))\n",
    "    return np.mean(np.abs((y_true - y_pred)))\n"
   ]
  },
  {
   "cell_type": "code",
   "execution_count": null,
   "metadata": {},
   "outputs": [],
   "source": [
    "model = keras.models.load_model('cnnc_iter3.h5')\n",
    "print(model.summary)"
   ]
  },
  {
   "cell_type": "code",
   "execution_count": null,
   "metadata": {},
   "outputs": [],
   "source": [
    "#CNN Classification testing\n",
    "#Import label data\n",
    "\n",
    "temp_labels = np.loadtxt('vec_mat_clabels_icex_src_0.01train.csv',delimiter=\",\")\n",
    "labels_t = []\n",
    "\n",
    "for l in range(len(temp_labels)):\n",
    "    labels_t.append(str(temp_labels[l]))\n",
    "\n",
    "labels_t = np.array(labels_t)\n",
    "labels_t = labels_t.ravel()\n",
    "\n",
    "def encode(series):\n",
    "    return pd.get_dummies(series.astype(str))\n",
    "\n",
    "y_train = encode(labels_t)\n",
    "labels = list(y_train.columns.values)\n",
    "float_labels = [float(i) for i in labels_t]\n",
    "\n",
    "#Import test data\n",
    "features_test = np.loadtxt('vec_mat_features_icex_src_icex16_test.csv',delimiter=\",\")\n",
    "temp_ytest = np.loadtxt('vec_mat_rlabels_icex_src_test2.csv',delimiter=\",\")\n",
    "y_test= []\n",
    "\n",
    "real_test = features_test[:,0::2]\n",
    "imag_test = features_test[:,1::2]\n",
    "X_test = np.zeros((features_test.shape[0],32,32,2))\n",
    "\n",
    "for k in range(features_test.shape[0]):\n",
    "    count = 0\n",
    "    for i in range(32):\n",
    "        for j in range(i,32):\n",
    "            X_test[k,i,j,0] = real_test[k,count]\n",
    "            X_test[k,i,j,1] = imag_test[k,count]\n",
    "            \n",
    "            if i!=j:\n",
    "                X_test[k,j,i,0] = X_test[k,i,j,0]\n",
    "                X_test[k,j,i,1] = -X_test[k,i,j,1]\n",
    "            \n",
    "            count = count + 1\n",
    "\n",
    "\n",
    "\n",
    "temp_ytest = temp_ytest.ravel()\n",
    "y_test = temp_ytest\n",
    "\n",
    "#print(X_test.shape)\n",
    "#print(y_test.shape)\n",
    "\n",
    "predictions = model.predict(X_test)\n",
    "\n",
    "pred_labels = []\n",
    "for i in np.argmax(predictions, axis=1):\n",
    "    pred_labels.append(float(labels[i]))\n",
    "    \n",
    "#print(np.shape(pred_labels))\n"
   ]
  },
  {
   "cell_type": "code",
   "execution_count": null,
   "metadata": {},
   "outputs": [],
   "source": [
    "plt.imshow(X_test[4,:,:,0],cmap='jet')"
   ]
  },
  {
   "cell_type": "code",
   "execution_count": null,
   "metadata": {},
   "outputs": [],
   "source": [
    "np.savetxt('oasn_cov_test2_m10db_imag.csv',np.squeeze(X_test[4,:,:,1]),delimiter=',')"
   ]
  },
  {
   "cell_type": "code",
   "execution_count": null,
   "metadata": {},
   "outputs": [],
   "source": [
    "\n",
    "#Classification acc\n",
    "mae = mean_absolute_error(y_test, pred_labels)\n",
    "diff = abs((np.transpose(pred_labels))-(y_test))\n",
    "error = diff[diff>1]\n",
    "percent_correct = (len(y_test)-len(error))/len(y_test)\n",
    "\n",
    "print('Test mae:', mae)\n",
    "print('Testing percent within 1km:', percent_correct*100)"
   ]
  },
  {
   "cell_type": "code",
   "execution_count": null,
   "metadata": {},
   "outputs": [],
   "source": [
    "#sort output for plotting\n",
    "inds = y_test.argsort()\n",
    "sorted_y_test = y_test[inds]\n",
    "\n",
    "floaty_pred = np.array(pred_labels).astype(np.float)\n",
    "sorted_y_pred = floaty_pred[inds]\n",
    "\n",
    "\n",
    "fig, ax = plt.subplots(figsize=(10,6))\n",
    "\n",
    "c = ax.pcolormesh(sorted_y_test, np.linspace(3,50,95), predictions.T*100, cmap='jet',vmin=0, vmax=100)\n",
    "ax.plot([3,50],[3,50],'g--')\n",
    "ax.set_title('CNN Classification Result (0.5% decrease to BL strength)',fontsize=20)\n",
    "ax.set_ylabel('Predicted Distance (km)',fontsize=20)\n",
    "ax.set_xlabel('Actual Distance (km)',fontsize=20)\n",
    "ax.axis([3,50, 3, 50],fontsize=20)\n",
    "# set the limits of the plot to the limits of the data\n",
    "#ax.axis([x.min(), x.max(), y.min(), y.max()])\n",
    "fig.colorbar(c, ax=ax)\n",
    "plt.tight_layout()\n",
    "plt.show()\n"
   ]
  },
  {
   "cell_type": "code",
   "execution_count": null,
   "metadata": {},
   "outputs": [],
   "source": [
    "fig.savefig('cnnc_testh.png')"
   ]
  },
  {
   "cell_type": "code",
   "execution_count": null,
   "metadata": {},
   "outputs": [],
   "source": [
    "#classification plotting\n",
    "sorted_y_pred = np.array([float(numeric_string) for numeric_string in sorted_y_pred])\n",
    "sorted_y_test = np.array([float(numeric_string) for numeric_string in sorted_y_test])\n",
    "\n",
    "colors = sorted_y_pred-sorted_y_test\n",
    "norm = Normalize()\n",
    "norm.autoscale(colors)\n",
    "colormap = cm.rainbow\n",
    "fig1 = plt.figure(figsize = (10,8))\n",
    "plt.scatter(sorted_y_test,sorted_y_pred,marker='.',c='k',alpha=0.75)\n",
    "plt.plot(sorted_y_test,sorted_y_test,'r',linewidth = 2)\n",
    "plt.quiver(sorted_y_test, sorted_y_test, np.zeros(len(sorted_y_test)), sorted_y_pred-sorted_y_test,color=colormap(norm(colors)),angles='xy', scale_units='xy', scale=1.,width=0.002)\n",
    "plt.axis([10, 15, 3, 50],fontsize=20)\n",
    "plt.ylabel('Predicted Distance (km)',fontsize=20)\n",
    "plt.xlabel('Actual Distance (km)',fontsize=20)\n",
    "plt.title('CNN Classification Predictions (0.5% decrease to BL strength)',fontsize=20)\n",
    "plt.grid()"
   ]
  },
  {
   "cell_type": "code",
   "execution_count": null,
   "metadata": {},
   "outputs": [],
   "source": [
    "\n",
    "sorted_y_test[152]"
   ]
  },
  {
   "cell_type": "code",
   "execution_count": null,
   "metadata": {},
   "outputs": [],
   "source": [
    "sorted_y_pred[152]"
   ]
  },
  {
   "cell_type": "code",
   "execution_count": null,
   "metadata": {},
   "outputs": [],
   "source": [
    "fig1.savefig('cnnc_testhp.png')"
   ]
  },
  {
   "cell_type": "code",
   "execution_count": null,
   "metadata": {},
   "outputs": [],
   "source": [
    "#CNN Regression Testing\n",
    "\n",
    "features_test = np.loadtxt('vec_mat_features_icex_src_test2_norm_10db.csv',delimiter=\",\")\n",
    "temp_ytest = np.loadtxt('vec_mat_rlabels_icex_src_test2.csv',delimiter=\",\")\n",
    "y_test= []\n",
    "\n",
    "real_test = features_test[:,0::2]\n",
    "imag_test = features_test[:,1::2]\n",
    "X_test = np.zeros((features_test.shape[0],32,32,2))\n",
    "\n",
    "for k in range(features_test.shape[0]):\n",
    "    count = 0\n",
    "    for i in range(32):\n",
    "        for j in range(i,32):\n",
    "            X_test[k,i,j,0] = real_test[k,count]\n",
    "            X_test[k,i,j,1] = imag_test[k,count]\n",
    "            \n",
    "            if i!=j:\n",
    "                X_test[k,j,i,0] = X_test[k,i,j,0]\n",
    "                X_test[k,j,i,1] = -X_test[k,i,j,1]\n",
    "            \n",
    "            count = count + 1\n",
    "\n",
    "temp_ytest = temp_ytest.ravel()\n",
    "y_test = temp_ytest\n"
   ]
  },
  {
   "cell_type": "code",
   "execution_count": null,
   "metadata": {},
   "outputs": [],
   "source": [
    "predictions = model.predict(X_test)\n",
    "\n",
    "mae = mean_absolute_error(y_test, predictions)\n",
    "print('Test mae:', mae)\n",
    "\n",
    "diff = abs((np.transpose(predictions))-(y_test))\n",
    "error = diff[diff>.1]\n",
    "percent_correct = (len(y_test)-len(error))/len(y_test)\n",
    "print('Percent within 1km:', percent_correct*100)"
   ]
  },
  {
   "cell_type": "code",
   "execution_count": null,
   "metadata": {},
   "outputs": [],
   "source": [
    "# Testing\n",
    "\n",
    "features_test = np.loadtxt('vec_mat_features_icex_src_32km_testc.csv',delimiter=\",\")\n",
    "\n",
    "real_test = features_test[0::2]\n",
    "imag_test = features_test[1::2]\n",
    "X_test = np.zeros((1,32,32,2))\n",
    "\n",
    "for k in range(1):\n",
    "    count = 0\n",
    "    for i in range(32):\n",
    "        for j in range(i,32):\n",
    "            X_test[k,i,j,0] = real_test[count]\n",
    "            X_test[k,i,j,1] = imag_test[count]\n",
    "            \n",
    "            if i!=j:\n",
    "                X_test[k,j,i,0] = X_test[k,i,j,0]\n",
    "                X_test[k,j,i,1] = -X_test[k,i,j,1]\n",
    "            \n",
    "            count = count + 1\n",
    "\n",
    "predictions = model.predict(X_test)   \n",
    "\n",
    "pred_labels = []\n",
    "for i in np.argmax(predictions, axis=1):\n",
    "    pred_labels.append(float(labels[i]))\n",
    "\n",
    "print(pred_labels)"
   ]
  },
  {
   "cell_type": "code",
   "execution_count": null,
   "metadata": {},
   "outputs": [],
   "source": [
    "#Regression plotting\n",
    "inds = y_test.argsort()\n",
    "sorted_y_test = y_test[inds]\n",
    "\n",
    "sorted_y_pred = np.squeeze(predictions)[inds]\n",
    "\n",
    "#Plotting\n",
    "colors = sorted_y_pred-sorted_y_test\n",
    "norm = Normalize()\n",
    "norm.autoscale(colors)\n",
    "colormap = cm.rainbow\n",
    "fig1 = plt.figure(figsize = (10,8))\n",
    "plt.scatter(sorted_y_test,sorted_y_pred,marker='.',c='k',alpha=0.75)\n",
    "plt.plot(sorted_y_test,sorted_y_test,'r',linewidth = 2)\n",
    "plt.quiver(sorted_y_test, sorted_y_test, np.zeros(len(sorted_y_test)), sorted_y_pred-sorted_y_test,color=colormap(norm(colors)),angles='xy', scale_units='xy', scale=1.,width=0.002)\n",
    "plt.axis([3, 50, 3, 50],fontsize=20)\n",
    "plt.ylabel('Predicted Distance (km)',fontsize=20)\n",
    "plt.xlabel('Actual Distance (km)',fontsize=20)\n",
    "plt.title('CNN Regression Predictions (0.5% decrease to BL strength)',fontsize=20)\n",
    "plt.grid()"
   ]
  },
  {
   "cell_type": "code",
   "execution_count": null,
   "metadata": {},
   "outputs": [],
   "source": [
    "fig1.savefig('cnnr_testh.png')"
   ]
  },
  {
   "cell_type": "code",
   "execution_count": null,
   "metadata": {},
   "outputs": [],
   "source": [
    "#MFP test\n",
    "\n",
    "mfp_pred = np.loadtxt('mfp_testc_pred.csv',delimiter=\",\")\n",
    "mfp_act = np.loadtxt('mfp_testc_act.csv',delimiter=\",\")\n",
    "\n",
    "mae = mean_absolute_error(mfp_act, mfp_pred)\n",
    "print('Test mae:', mae)\n",
    "\n",
    "diff = abs((np.transpose(mfp_pred))-(mfp_act))\n",
    "error = diff[diff>.1]\n",
    "percent_correct = (len(mfp_act)-len(error))/len(mfp_act)\n",
    "print('Percent within 1km:', percent_correct*100)"
   ]
  },
  {
   "cell_type": "code",
   "execution_count": null,
   "metadata": {},
   "outputs": [],
   "source": [
    "#Plotting\n",
    "colors = mfp_pred-mfp_act\n",
    "norm = Normalize()\n",
    "norm.autoscale(colors)\n",
    "colormap = cm.rainbow\n",
    "fig1 = plt.figure(figsize = (10,8))\n",
    "plt.scatter(mfp_act,mfp_pred,marker='.',c='k',alpha=0.75)\n",
    "plt.plot(mfp_act,mfp_act,'r',linewidth = 2)\n",
    "plt.quiver(mfp_act, mfp_act, np.zeros(len(mfp_act)), mfp_pred-mfp_act,color=colormap(norm(colors)),angles='xy', scale_units='xy', scale=1.,width=0.002)\n",
    "plt.axis([3, 50, 3, 50],fontsize=20)\n",
    "plt.ylabel('Predicted Distance (km)',fontsize=20)\n",
    "plt.xlabel('Actual Distance (km)',fontsize=20)\n",
    "plt.title('MFP Predictions (no SSP mismatch)',fontsize=20)\n",
    "plt.grid()"
   ]
  },
  {
   "cell_type": "code",
   "execution_count": null,
   "metadata": {},
   "outputs": [],
   "source": [
    "mfp_pred[128]"
   ]
  },
  {
   "cell_type": "code",
   "execution_count": null,
   "metadata": {},
   "outputs": [],
   "source": [
    "fig1.savefig('mpf_test2.png')"
   ]
  },
  {
   "cell_type": "code",
   "execution_count": null,
   "metadata": {},
   "outputs": [],
   "source": [
    "from keras.models import Model\n",
    "\n",
    "layer1_model = Model(inputs=model.input,outputs=model.layers[1].output)\n",
    "layer1bn_model = Model(inputs=model.input,outputs=model.layers[2].output)\n",
    "layer2_model = Model(inputs=model.input,outputs=model.layers[4].output)\n",
    "layer2bn_model = Model(inputs=model.input,outputs=model.layers[5].output)\n",
    "layer3_model = Model(inputs=model.input,outputs=model.layers[7].output)\n",
    "layer3bn_model = Model(inputs=model.input,outputs=model.layers[8].output)\n",
    "flatten_model = Model(inputs=model.input,outputs=model.layers[10].output)\n",
    "dense_model = Model(inputs=model.input,outputs=model.layers[11].output)"
   ]
  },
  {
   "cell_type": "code",
   "execution_count": null,
   "metadata": {},
   "outputs": [],
   "source": [
    "#Import training data\n",
    "\n",
    "features = np.loadtxt('vec_mat_features_icex_src_0.01train_norm.csv',delimiter=\",\")\n",
    "labels_unstand = np.loadtxt('vec_mat_rlabels_icex_src_0.01train.csv',delimiter=\",\")\n",
    "labels_t = []\n",
    "\n",
    "real = features[:,0::2]\n",
    "imag = features[:,1::2]\n",
    "X_train = np.zeros((features.shape[0],32,32,2))\n",
    "\n",
    "for k in range(features.shape[0]):\n",
    "    count = 0\n",
    "    for i in range(32):\n",
    "        for j in range(i,32):\n",
    "            X_train[k,i,j,0] = real[k,count]\n",
    "            X_train[k,i,j,1] = imag[k,count]\n",
    "            \n",
    "            if i!=j:\n",
    "                X_train[k,j,i,0] = X_train[k,i,j,0]\n",
    "                X_train[k,j,i,1] = -X_train[k,i,j,1]\n",
    "                \n",
    "            count = count + 1\n",
    "    \n",
    "    #X_train[k,:,:,0] = X_train[k,:,:,0]/np.amax(np.abs(X_train[k,:,:,0]))\n",
    "    #X_train[k,:,:,1] = X_train[k,:,:,1]/np.amax(np.abs(X_train[k,:,:,1]))        \n",
    "\n",
    "labels_unstand = labels_unstand.ravel()\n",
    "#y_train,mu,sigma_labels = std_y(labels_unstand)\n",
    "\n",
    "y_train = labels_unstand\n",
    "\n",
    "print(X_train.shape)\n",
    "print(y_train.shape)"
   ]
  },
  {
   "cell_type": "code",
   "execution_count": null,
   "metadata": {},
   "outputs": [],
   "source": [
    "np.savetxt('training_input_labels.tsv',y_train,delimiter='\\t')\n",
    "np.savetxt('training_input.tsv',features,delimiter='\\t')"
   ]
  },
  {
   "cell_type": "code",
   "execution_count": null,
   "metadata": {},
   "outputs": [],
   "source": [
    "predictions_train = model.predict(X_train)\n",
    "pred_labels_train = []\n",
    "for i in np.argmax(predictions_train, axis=1):\n",
    "    pred_labels_train.append(float(labels[i]))"
   ]
  },
  {
   "cell_type": "code",
   "execution_count": null,
   "metadata": {},
   "outputs": [],
   "source": [
    "layerd_output_train = dense_model.predict(X_train)\n",
    "lab = np.zeros((len(float_labels),2))\n",
    "lab[:,0] = np.array(float_labels)\n",
    "lab[:,1] = np.array(pred_labels_train)"
   ]
  },
  {
   "cell_type": "code",
   "execution_count": null,
   "metadata": {},
   "outputs": [],
   "source": [
    "np.savetxt('layerd_output_train_r.tsv',layerd_output_train,delimiter='\\t')\n",
    "np.savetxt('layerd_output_train_rlabels.tsv',lab,delimiter='\\t')"
   ]
  },
  {
   "cell_type": "code",
   "execution_count": null,
   "metadata": {},
   "outputs": [],
   "source": [
    "X = np.vstack((X_train,X_test))\n",
    "Y1 = np.hstack((np.array(float_labels),y_test))\n",
    "Y2 = np.hstack(((np.array(pred_labels_train)),np.array(pred_labels)))\n",
    "Y = np.zeros((len(Y1),2))\n",
    "Y[:,0] = Y1\n",
    "Y[:,1] = Y2\n",
    "print(X.shape)\n",
    "print(Y1.shape)\n",
    "print(Y2.shape)\n",
    "print(Y.shape)\n"
   ]
  },
  {
   "cell_type": "code",
   "execution_count": null,
   "metadata": {},
   "outputs": [],
   "source": [
    "x = X_test[4,:,:,:]\n",
    "x = x[None,:,:,:]\n",
    "layerd_output_10km_test2_m10db = dense_model.predict(x)\n",
    "#Y1 = y_test\n",
    "#Y2 = np.array(np.squeeze(predictions))\n",
    "#Y = np.zeros((len(Y1),2))\n",
    "#Y[:,0] = Y1\n",
    "#Y[:,1] = Y2\n",
    "print(layerd_output_10km_test2_m10db.shape)\n",
    "#print(Y.shape)"
   ]
  },
  {
   "cell_type": "code",
   "execution_count": null,
   "metadata": {},
   "outputs": [],
   "source": [
    "np.savetxt('layerd_output_testc_rlabels.tsv',Y,delimiter='\\t')"
   ]
  },
  {
   "cell_type": "code",
   "execution_count": null,
   "metadata": {},
   "outputs": [],
   "source": [
    "np.savetxt('layerd_output_10km_test2_m10db.tsv',layerd_output_10km_test2_m10db,delimiter='\\t')"
   ]
  },
  {
   "cell_type": "code",
   "execution_count": null,
   "metadata": {},
   "outputs": [],
   "source": [
    "arg = np.argsort(abs(np.squeeze(np.array(pred_labels))-np.squeeze(np.array(y_test))),)\n",
    "print(y_test[arg[::-1]])"
   ]
  },
  {
   "cell_type": "code",
   "execution_count": null,
   "metadata": {},
   "outputs": [],
   "source": [
    "plt.plot(layerd_output[0,:],'o')\n",
    "plt.show()"
   ]
  },
  {
   "cell_type": "code",
   "execution_count": null,
   "metadata": {},
   "outputs": [],
   "source": [
    "plt.plot(layerf_output[0,:])\n",
    "plt.show()"
   ]
  },
  {
   "cell_type": "code",
   "execution_count": null,
   "metadata": {},
   "outputs": [],
   "source": [
    "plt.plot(layerf_output[0,:])\n",
    "plt.show()"
   ]
  },
  {
   "cell_type": "code",
   "execution_count": null,
   "metadata": {},
   "outputs": [],
   "source": [
    "fig = plt.figure(figsize=(20,20))\n",
    "for j in range(46):\n",
    "    plt.subplot(7,7,j+1)\n",
    "    plt.imshow(layer3_output[0,:,:,j],cmap='jet')\n",
    "plt.tight_layout()\n",
    "plt.show()"
   ]
  },
  {
   "cell_type": "code",
   "execution_count": null,
   "metadata": {},
   "outputs": [],
   "source": []
  },
  {
   "cell_type": "code",
   "execution_count": null,
   "metadata": {},
   "outputs": [],
   "source": [
    "fig = plt.figure(figsize=(20,20))\n",
    "for j in range(12):\n",
    "    plt.subplot(3,4,j+1)\n",
    "    plt.imshow(layer1_output[0,:,:,j],cmap='jet')\n",
    "plt.tight_layout()\n",
    "plt.show()"
   ]
  },
  {
   "cell_type": "code",
   "execution_count": null,
   "metadata": {},
   "outputs": [],
   "source": [
    "fig = plt.figure(figsize=(20,20))\n",
    "for j in range(24):\n",
    "    plt.subplot(5,5,j+1)\n",
    "    plt.imshow(layer2_output[0,:,:,j],cmap='jet')\n",
    "plt.tight_layout()\n",
    "plt.show()"
   ]
  },
  {
   "cell_type": "code",
   "execution_count": null,
   "metadata": {},
   "outputs": [],
   "source": []
  }
 ],
 "metadata": {
  "kernelspec": {
   "display_name": "Python 3",
   "language": "python",
   "name": "python3"
  },
  "language_info": {
   "codemirror_mode": {
    "name": "ipython",
    "version": 3
   },
   "file_extension": ".py",
   "mimetype": "text/x-python",
   "name": "python",
   "nbconvert_exporter": "python",
   "pygments_lexer": "ipython3",
   "version": "3.6.4"
  }
 },
 "nbformat": 4,
 "nbformat_minor": 2
}
