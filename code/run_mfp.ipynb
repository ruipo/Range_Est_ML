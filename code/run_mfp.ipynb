{
 "cells": [
  {
   "cell_type": "code",
   "execution_count": 2,
   "metadata": {},
   "outputs": [],
   "source": [
    "import os\n",
    "import subprocess\n",
    "import time"
   ]
  },
  {
   "cell_type": "code",
   "execution_count": null,
   "metadata": {},
   "outputs": [],
   "source": [
    "#run file and rep file in basedir\n",
    "#xsm files in xsmdir\n",
    "\n",
    "basedir = '/home/rui/Desktop/MFP/ICEX_32array_0.01int'\n",
    "xsmdir = '/home/rui/Desktop/MFP/ICEX_32array_0.01int/test2_xsm_files'\n",
    "repfile = 'ICEX_32array_0.01int_reps.rpo'\n",
    "runfile = 'ICEX_32array_0.01int.dat'\n",
    "\n",
    "allxsm = os.listdir(xsmdir)\n",
    "\n",
    "for ii in range(len(allxsm)):\n",
    "    os.chdir(basedir)\n",
    "    os.mkdir(allxsm[ii][0:-4])\n",
    "    os.system('cp ' + xsmdir + '/' + allxsm[ii] + ' '+ basedir + '/' + allxsm[ii][0:-4] + '/')\n",
    "    os.system('cp ' + basedir + '/' + repfile + ' '+ basedir + '/' + allxsm[ii][0:-4] + '/')\n",
    "    os.system('cp ' + basedir + '/' + runfile + ' '+ basedir + '/' + allxsm[ii][0:-4] + '/')\n",
    "    os.chdir(allxsm[ii][0:-4])   \n",
    "        \n",
    "    logs = open('mpf_log_'+str(ii+1)+'.txt','w')\n",
    "    print('mpf ' + runfile[0:-4] + ' ' + repfile[0:-4] + ' ' + allxsm[ii][0:-4])\n",
    "    proc = subprocess.Popen(('mfp ' + runfile[0:-4] + ' ' + repfile[0:-4] + ' ' + allxsm[ii][0:-4]).split(),stdout=logs,stderr=logs)\n",
    "    proc.wait()\n",
    "    print('  Return code: ' + str(proc.returncode))\n",
    "    #plot = subprocess.Popen(('cplot ' + runfile[0:-4]).split(),stdout=logs,stderr=logs)\n",
    "\n",
    "    if not proc.returncode == 0:\n",
    "        print('Trying once more: ')\n",
    "\n",
    "        print('mpf ' + runfile[0:-4] + ' ' + repfile[0:-4] + ' ' + allxsm[ii][0:-4])\n",
    "        proc = subprocess.Popen(('mfp ' + runfile[0:-4] + ' ' + repfile[0:-4] + ' ' + allxsm[ii][0:-4]).split(),stdout=logs,stderr=logs)\n",
    "        proc.wait()\n",
    "        print('  Return code: ' + str(proc.returncode))\n",
    "        #plot = subprocess.Popen(('cplot ' + runfile[0:-4]).split(),stdout=logs,stderr=logs)\n",
    "        \n",
    "    if proc.returncode == 0:\n",
    "        os.rename(basedir + '/'+ allxsm[ii][0:-4] + '/' + 'ICEX_32array_0.01int.bdr', basedir + '/bdr_files/' + allxsm[ii][0:-4] + '.bdr')\n",
    "        \n",
    "    logs.close()\n",
    "    time.sleep(0.05)\n",
    "\n",
    "    \n",
    "os.chdir(basedir)\n",
    "print('Done!')\n"
   ]
  }
 ],
 "metadata": {
  "kernelspec": {
   "display_name": "Python 3",
   "language": "python",
   "name": "python3"
  },
  "language_info": {
   "codemirror_mode": {
    "name": "ipython",
    "version": 3
   },
   "file_extension": ".py",
   "mimetype": "text/x-python",
   "name": "python",
   "nbconvert_exporter": "python",
   "pygments_lexer": "ipython3",
   "version": "3.6.4"
  }
 },
 "nbformat": 4,
 "nbformat_minor": 2
}
