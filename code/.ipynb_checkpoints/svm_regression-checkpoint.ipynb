{
 "cells": [
  {
   "cell_type": "code",
   "execution_count": null,
   "metadata": {},
   "outputs": [],
   "source": [
    "import numpy as np\n",
    "import scipy as sp\n",
    "import time\n",
    "from sklearn import svm\n",
    "from sklearn import datasets\n",
    "from sklearn import preprocessing\n",
    "from sklearn import model_selection as ms\n",
    "from sklearn.metrics import accuracy_score\n",
    "import csv\n",
    "import matplotlib.pyplot as plt\n",
    "\n",
    "def std_y(col):\n",
    "    mu = np.mean(col, axis=0)\n",
    "    sigma = np.sqrt(np.mean((col - mu)**2, axis=0))\n",
    "    return np.array([(val - mu)/(1.0*sigma) for val in col]), mu, sigma\n",
    "\n",
    "def mean_absolute_percentage_error(y_true, y_pred): \n",
    "    y_true, y_pred = np.array(y_true), np.array(y_pred)\n",
    "    return np.mean(np.abs((y_true - y_pred) / y_true)) * 100"
   ]
  },
  {
   "cell_type": "code",
   "execution_count": null,
   "metadata": {},
   "outputs": [],
   "source": [
    "#import data and labels\n",
    "'''\n",
    "features = np.loadtxt('vec_mat_features_icex_src_0.1rl.csv',delimiter=\",\")\n",
    "labels_unstand = np.loadtxt('vec_mat_labels_icex_src_0.1rl.csv',delimiter=\",\")\n",
    "\n",
    "features = preprocessing.scale(features)\n",
    "#features = features[np.nonzero(features)]\n",
    "#features = features.reshape(1220,1055)\n",
    "#KL = -sp.sum(features * sp.log(features), axis=1)\n",
    "#X = np.array([np.real(KL), np.imag(KL)]).T\n",
    "\n",
    "labels_unstand = labels_unstand.ravel()\n",
    "#labels,mu,sigma_labels = std_y(labels_unstand)\n",
    "labels = labels_unstand\n",
    "'''\n",
    "\n",
    "features = np.loadtxt('vec_mat_features_icex_src_0.01train.csv',delimiter=\",\")\n",
    "labels_unstand = np.loadtxt('vec_mat_rlabels_icex_src_0.01train.csv',delimiter=\",\")\n",
    "\n",
    "X_train = preprocessing.scale(features)\n",
    "    \n",
    "labels_unstand = labels_unstand.ravel()\n",
    "#y_train,mu,sigma_labels = std_y(labels_unstand)\n",
    "\n",
    "y_train = labels_unstand\n"
   ]
  },
  {
   "cell_type": "code",
   "execution_count": null,
   "metadata": {},
   "outputs": [],
   "source": [
    "#split dataset into training and test datasets\n",
    "\n",
    "#X_train, X_test, y_train, y_test = ms.train_test_split(features, labels, test_size=0.6, random_state=0)\n",
    "\n",
    "\n",
    "X_test = np.loadtxt('vec_mat_features_icex_src_test2.csv',delimiter=\",\")\n",
    "temp_ytest = np.loadtxt('vec_mat_rlabels_icex_src_test2.csv',delimiter=\",\")\n",
    "y_test= []\n",
    "\n",
    "X_test = preprocessing.scale(X_test)\n",
    "\n",
    "temp_ytest = temp_ytest.ravel()\n",
    "#y_test = (temp_ytest - mu)/sigma_labels\n",
    "y_test = temp_ytest\n",
    "\n",
    "print(X_train.shape)\n",
    "print(y_train.shape)\n",
    "print(X_test.shape)\n",
    "print(y_test.shape)\n"
   ]
  },
  {
   "cell_type": "code",
   "execution_count": null,
   "metadata": {},
   "outputs": [],
   "source": [
    "#cross validation\n",
    "\n",
    "#rbf\n",
    "C = [0.01, 0.1, 1, 10, 100]\n",
    "gamma = [0.0001, 0.001, 0.01, 0.1]\n",
    "scores_rbf = np.zeros((len(C),len(gamma)))\n",
    "\n",
    "for i in range(len(C)):\n",
    "    print(i)\n",
    "    for j in range(len(gamma)):\n",
    "        clf = svm.SVR(kernel='rbf',C = C[i], gamma = gamma[j], epsilon = 0.0001)\n",
    "        scores = ms.cross_val_score(clf, X_train, y_train, cv=5)\n",
    "        scores_rbf[i,j] = scores.mean()\n",
    "        print(\"For C = %0.3f gamma = %0.4f , accuracy: %0.2f (+/- %0.2f)\" % (C[i], gamma[j], scores.mean(), scores.std() * 2))\n",
    "\n",
    "clf = svm.SVR(kernel='rbf',C = 10, gamma = 'scale', epsilon = 0.0001)\n",
    "scores_rbf_scale = ms.cross_val_score(clf, X_train, y_train, cv=5)\n",
    "print(\"For C = 10 gamma = scale , accuracy: %0.2f (+/- %0.2f)\" % (scores_rbf_scale.mean(), scores_rbf_scale.std() * 2))"
   ]
  },
  {
   "cell_type": "code",
   "execution_count": null,
   "metadata": {},
   "outputs": [],
   "source": [
    "#poly\n",
    "C = [0.01, 0.1, 1, 10, 100]\n",
    "degree = [3,5,7,9]\n",
    "scores_poly = np.zeros((len(C),len(degree)))\n",
    "\n",
    "for i in range(len(C)):\n",
    "    print(i)\n",
    "    for j in range(len(degree)):\n",
    "        clf = svm.SVR(kernel='poly',C = C[i], degree = degree[j], gamma = 'scale',epsilon = 0.0001)\n",
    "        scores = ms.cross_val_score(clf, X_train, y_train, cv=5)\n",
    "        scores_poly[i,j] = scores.mean()\n",
    "        print(\"For C = %0.3f degree = %0.4f , accuracy: %0.2f (+/- %0.2f)\" % (C[i], degree[j], scores.mean(), scores.std() * 2))\n"
   ]
  },
  {
   "cell_type": "code",
   "execution_count": null,
   "metadata": {},
   "outputs": [],
   "source": [
    "#Linear\n",
    "\n",
    "clf = svm.SVR(kernel='linear',C = 1, epsilon = 0.0001)\n",
    "scores_lin = ms.cross_val_score(clf, X_train, y_train, cv=5)\n",
    "print(\"For C = %0.3f degree = %0.4f , accuracy: %0.2f (+/- %0.2f)\" % (1, 1, scores_lin.mean(), scores_lin.std() * 2))\n"
   ]
  },
  {
   "cell_type": "code",
   "execution_count": null,
   "metadata": {},
   "outputs": [],
   "source": [
    "#Sigmoid\n",
    "C = [0.01, 0.1, 1, 10, 100]\n",
    "gamma = [0.0001, 0.001, 0.01, 0.1]\n",
    "scores_sig = np.zeros((len(C),len(gamma)))\n",
    "\n",
    "for i in range(len(C)):\n",
    "    print(i)\n",
    "    for j in range(len(gamma)):\n",
    "        clf = svm.SVR(kernel='sigmoid',C = C[i], gamma = gamma[j], epsilon = 0.0001)\n",
    "        scores = ms.cross_val_score(clf, X_train, y_train, cv=5)\n",
    "        scores_sig[i,j] = scores.mean()\n",
    "        print(\"For C = %0.3f gamma = %0.4f , accuracy: %0.2f (+/- %0.2f)\" % (C[i], gamma[j], scores.mean(), scores.std() * 2))\n",
    "\n",
    "clf = svm.SVR(kernel='sigmoid',C = 100, gamma = 'scale', epsilon = 0.0001)\n",
    "scores_sig_scale = ms.cross_val_score(clf, X_train, y_train, cv=5)\n",
    "print(\"For C = 10 gamma = scale , accuracy: %0.2f (+/- %0.2f)\" % (scores_sig_scale.mean(), scores_sig_scale.std() * 2))\n"
   ]
  },
  {
   "cell_type": "code",
   "execution_count": null,
   "metadata": {},
   "outputs": [],
   "source": [
    "#Best regression for 0.1: rbf with C = 100, gamma = 0.0001\n",
    "#Best regression for 0.1long: rbf with C = 100, gamma = 0.001\n",
    "\n",
    "#Best regression for 0.25: rbf with C = 100, gamma = 0.0001\n",
    "\n",
    "#Best regression for 0.01int: rbf with C = 100, gamma = 0.001\n",
    "\n",
    "#proba = ms.cross_val_predict(clf, X_train, y_train, cv=5, method='predict_proba')"
   ]
  },
  {
   "cell_type": "code",
   "execution_count": null,
   "metadata": {},
   "outputs": [],
   "source": [
    "# Train and test\n",
    "\n",
    "clf = svm.SVR(kernel='rbf',C = 100, gamma = 0.001, epsilon = 0.0001)\n",
    "\n",
    "t = time.time()\n",
    "clf.fit(X_train, y_train)\n",
    "elapsed = time.time() - t\n",
    "#print(elapsed)\n",
    "\n",
    "y_pred_train = clf.predict(X_train)\n",
    "\n",
    "y_pred = clf.predict(X_test)\n",
    "print(clf.score(X_test, y_test))\n",
    "\n",
    "\n",
    "#training time for 0.1 (1220 datapoints): 0.734sec; score: 0.93\n",
    "#training time for 0.1lnog (3050 datapoints): 3.659sec; score:0.99\n",
    "\n",
    "#training time for 0.5 training interval (95 datapoints): 0.0105sec; score:0.830 (C=100,gamma = 0.001)\n",
    "#training time for 0.1 training interval (471 datapoints): 0.217sec; score:0.877 (C=100,gamma = 0.0001)\n",
    "#training time for 0.01 training interval XVal test on 40% of data  (4701 datapoints):\n",
    "#8.32sec; score:0.946 (C=100,gamma = 0.001)\n",
    "#training time for 0.01 training interval (4701 datapoints): 23.4sec; score:0.965 (C=100,gamma = 0.001)"
   ]
  },
  {
   "cell_type": "code",
   "execution_count": null,
   "metadata": {},
   "outputs": [],
   "source": [
    "#diff = np.abs((y_pred*sigma_labels+mu)-(y_test*sigma_labels+mu))\n",
    "diff = abs((y_pred)-(y_test))\n",
    "error = diff[diff>1]\n",
    "percent_correct = (len(y_test)-len(error))/len(y_test)\n",
    "print(percent_correct)\n",
    "\n",
    "diff = abs((y_pred_train)-(y_train))\n",
    "error = diff[diff>1]\n",
    "percent_correct_train = (len(y_train)-len(error))/len(y_train)\n",
    "print(percent_correct_train)\n",
    "\n",
    "# 0.1: percent correct within 0.5km : 33.4%\n",
    "# 0.1long: percent correct within 0.5km : 53.4%\n",
    "\n",
    "# 0.25: percent correct within 0.5km : 27.87%\n",
    "\n",
    "#MAPE\n",
    "\n",
    "print(mean_absolute_percentage_error(y_test, y_pred))\n",
    "\n",
    "print(mean_absolute_percentage_error(y_train, y_pred_train))"
   ]
  },
  {
   "cell_type": "code",
   "execution_count": null,
   "metadata": {},
   "outputs": [],
   "source": [
    "# sort output for plotting\n",
    "\n",
    "inds = y_test.argsort()\n",
    "sorted_y_test = y_test[inds]\n",
    "\n",
    "sorted_y_pred = y_pred[inds]\n"
   ]
  },
  {
   "cell_type": "code",
   "execution_count": null,
   "metadata": {},
   "outputs": [],
   "source": [
    "#Plotting\n",
    "fig1 = plt.figure(figsize = (20,14))\n",
    "plt.scatter(sorted_y_test,sorted_y_pred)\n",
    "plt.axis([0, 50, 0, 50])\n",
    "plt.xticks(fontsize = 20)\n",
    "plt.yticks(fontsize = 20)\n",
    "plt.ylabel('Predicted Distance (km)',fontsize=20)\n",
    "plt.xlabel('Actual Distance (km)',fontsize=20)\n",
    "plt.title('SNR = -10dB',fontsize=20)\n",
    "plt.grid()\n",
    "#fig1.savefig('rsvm_scat_m10db.png')"
   ]
  },
  {
   "cell_type": "code",
   "execution_count": null,
   "metadata": {},
   "outputs": [],
   "source": [
    "plt.hist(diff, bins='auto')\n",
    "plt.title(\"Histogram with difference between y_true and y_pred\")\n",
    "plt.show()"
   ]
  },
  {
   "cell_type": "code",
   "execution_count": null,
   "metadata": {},
   "outputs": [],
   "source": [
    "Ndecimals = 1\n",
    "decade = 10**Ndecimals\n",
    "y_test_round = np.trunc(y_test*decade)/decade\n",
    "\n",
    "x = y_test-y_test_round\n",
    "plt.scatter(x,diff)\n",
    "plt.show()"
   ]
  },
  {
   "cell_type": "code",
   "execution_count": null,
   "metadata": {},
   "outputs": [],
   "source": []
  }
 ],
 "metadata": {
  "kernelspec": {
   "display_name": "Python 3",
   "language": "python",
   "name": "python3"
  },
  "language_info": {
   "codemirror_mode": {
    "name": "ipython",
    "version": 3
   },
   "file_extension": ".py",
   "mimetype": "text/x-python",
   "name": "python",
   "nbconvert_exporter": "python",
   "pygments_lexer": "ipython3",
   "version": "3.6.4"
  }
 },
 "nbformat": 4,
 "nbformat_minor": 2
}
