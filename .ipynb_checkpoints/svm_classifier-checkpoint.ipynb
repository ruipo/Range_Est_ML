{
 "cells": [
  {
   "cell_type": "code",
   "execution_count": 135,
   "metadata": {},
   "outputs": [],
   "source": [
    "import numpy as np\n",
    "import scipy as sp\n",
    "from sklearn import svm\n",
    "from sklearn import datasets\n",
    "from sklearn import preprocessing\n",
    "from sklearn import model_selection as ms\n",
    "from sklearn.metrics import accuracy_score\n",
    "import csv"
   ]
  },
  {
   "cell_type": "code",
   "execution_count": 136,
   "metadata": {},
   "outputs": [],
   "source": [
    "#import data and labels\n",
    "\n",
    "features = np.loadtxt('vec_mat_features_icex_src.csv',delimiter=\",\")\n",
    "temp_labels = np.loadtxt('vec_mat_labels_icex_src.csv',delimiter=\",\")\n",
    "labels = []\n",
    "\n",
    "features = preprocessing.scale(features)\n",
    "#features = features[np.nonzero(features)]\n",
    "#features = features.reshape(1220,1055)\n",
    "#KL = -sp.sum(features * sp.log(features), axis=1)\n",
    "#X = np.array([np.real(KL), np.imag(KL)]).T\n",
    "\n",
    "for l in range(len(temp_labels)):\n",
    "    labels.append(str(temp_labels[l]))\n",
    "    \n",
    "labels = np.array(labels)\n",
    "labels = labels.ravel()"
   ]
  },
  {
   "cell_type": "code",
   "execution_count": 137,
   "metadata": {},
   "outputs": [],
   "source": [
    "#split dataset into training and test datasets\n",
    "\n",
    "X_train, X_test, y_train, y_test = ms.train_test_split(features, labels, test_size=0.4, random_state=0)"
   ]
  },
  {
   "cell_type": "code",
   "execution_count": 146,
   "metadata": {},
   "outputs": [],
   "source": [
    "\n",
    "clf = svm.SVC(C=10, gamma=0.001, decision_function_shape='ovo', probability = True)\n"
   ]
  },
  {
   "cell_type": "code",
   "execution_count": 147,
   "metadata": {},
   "outputs": [
    {
     "name": "stdout",
     "output_type": "stream",
     "text": [
      "[0.85380117 0.82317073 0.82191781 0.80451128 0.84745763]\n",
      "Accuracy: 0.83 (+/- 0.04)\n"
     ]
    }
   ],
   "source": [
    "#Cross validation\n",
    "\n",
    "scores = ms.cross_val_score(clf, X_train, y_train, cv=5)\n",
    "print(scores)\n",
    "print(\"Accuracy: %0.2f (+/- %0.2f)\" % (scores.mean(), scores.std() * 2))\n",
    "\n",
    "#proba = ms.cross_val_predict(clf, X_train, y_train, cv=5, method='predict_proba')"
   ]
  },
  {
   "cell_type": "code",
   "execution_count": 134,
   "metadata": {},
   "outputs": [
    {
     "data": {
      "text/plain": [
       "407"
      ]
     },
     "execution_count": 134,
     "metadata": {},
     "output_type": "execute_result"
    }
   ],
   "source": [
    "# Train and test\n",
    "clf.fit(X_train, y_train)\n",
    "\n",
    "y_pred = clf.predict(X_test)\n",
    "accuracy_score(y_test, y_pred)"
   ]
  },
  {
   "cell_type": "code",
   "execution_count": 342,
   "metadata": {},
   "outputs": [
    {
     "name": "stderr",
     "output_type": "stream",
     "text": [
      "/Library/Frameworks/Python.framework/Versions/3.6/lib/python3.6/site-packages/sklearn/svm/base.py:196: FutureWarning: The default value of gamma will change from 'auto' to 'scale' in version 0.22 to account better for unscaled features. Set gamma explicitly to 'auto' or 'scale' to avoid this warning.\n",
      "  \"avoid this warning.\", FutureWarning)\n"
     ]
    },
    {
     "data": {
      "image/png": "[encoded data removed]",
      "text/plain": [
       "<Figure size 432x288 with 2 Axes>"
      ]
     },
     "metadata": {},
     "output_type": "display_data"
    }
   ],
   "source": [
    "import matplotlib.pyplot as plt\n",
    "\n",
    "def make_meshgrid(x, y, h=.02):\n",
    "    \"\"\"Create a mesh of points to plot in\n",
    "\n",
    "    Parameters\n",
    "    ----------\n",
    "    x: data to base x-axis meshgrid on\n",
    "    y: data to base y-axis meshgrid on\n",
    "    h: stepsize for meshgrid, optional\n",
    "\n",
    "    Returns\n",
    "    -------\n",
    "    xx, yy : ndarray\n",
    "    \"\"\"\n",
    "    x_min, x_max = x.min() - 1, x.max() + 1\n",
    "    y_min, y_max = y.min() - 1, y.max() + 1\n",
    "    xx, yy = np.meshgrid(np.arange(x_min, x_max, h),\n",
    "                         np.arange(y_min, y_max, h))\n",
    "    return xx, yy\n",
    "\n",
    "\n",
    "def plot_contours(ax, clf, xx, yy, **params):\n",
    "    \"\"\"Plot the decision boundaries for a classifier.\n",
    "\n",
    "    Parameters\n",
    "    ----------\n",
    "    ax: matplotlib axes object\n",
    "    clf: a classifier\n",
    "    xx: meshgrid ndarray\n",
    "    yy: meshgrid ndarray\n",
    "    params: dictionary of params to pass to contourf, optional\n",
    "    \"\"\"\n",
    "    Z = clf.predict(np.c_[xx.ravel(), yy.ravel()])\n",
    "    Z = Z.reshape(xx.shape)\n",
    "    out = ax.contourf(xx, yy, Z, **params)\n",
    "    return out\n",
    "\n",
    "\n",
    "\n",
    "y = labels\n",
    "\n",
    "# we create an instance of SVM and fit out data. We do not scale our\n",
    "# data since we want to plot the support vectors\n",
    "C = 10.0  # SVM regularization parameter\n",
    "models = (svm.SVC(kernel='rbf', gamma='scale', C=C),\n",
    "          svm.SVC(kernel='poly', degree=3, C=C))\n",
    "models = (clf.fit(X, y) for clf in models)\n",
    "\n",
    "# title for the plots\n",
    "titles = ('SVC with RBF kernel',\n",
    "          'SVC with polynomial (degree 3) kernel')\n",
    "\n",
    "# Set-up 2x2 grid for plotting.\n",
    "fig, sub = plt.subplots(1, 2)\n",
    "plt.subplots_adjust(wspace=0.4, hspace=0.4)\n",
    "\n",
    "X0, X1 = X[:, 0], X[:, 1]\n",
    "xx, yy = make_meshgrid(X0, X1)\n",
    "\n",
    "for clf, title, ax in zip(models, titles, sub.flatten()):\n",
    "    plot_contours(ax, clf, xx, yy,\n",
    "                  cmap=plt.cm.coolwarm, alpha=0.8)\n",
    "    ax.scatter(X0[0:20], X1[0:20],c='blue', cmap=plt.cm.coolwarm, s=20, edgecolors='k')\n",
    "    ax.scatter(X0[20:40], X1[20:40],c='black', cmap=plt.cm.coolwarm, s=20, edgecolors='k')\n",
    "    ax.scatter(X0[40:60], X1[40:60],c='red', cmap=plt.cm.coolwarm, s=20, edgecolors='k')\n",
    "    ax.scatter(X0[60:80], X1[60:80],c='green', cmap=plt.cm.coolwarm, s=20, edgecolors='k')\n",
    "    ax.set_xlim(xx.min(), xx.max())\n",
    "    ax.set_ylim(yy.min(), yy.max())\n",
    "    ax.set_xlabel('Real KL')\n",
    "    ax.set_ylabel('Image KL')\n",
    "    ax.set_xticks(())\n",
    "    ax.set_yticks(())\n",
    "    ax.set_title(title)\n",
    "\n",
    "plt.show()"
   ]
  },
  {
   "cell_type": "code",
   "execution_count": 23,
   "metadata": {},
   "outputs": [
    {
     "data": {
      "text/plain": [
       "array([[0.00330426, 0.00719973, 0.00229111, ..., 0.00243358, 0.00330626,\n",
       "        0.00300266],\n",
       "       [0.02732753, 0.00873277, 0.03382954, ..., 0.41600918, 0.0144022 ,\n",
       "        0.01638558],\n",
       "       [0.0058396 , 0.00893012, 0.00413169, ..., 0.00370708, 0.00522604,\n",
       "        0.00417725],\n",
       "       ...,\n",
       "       [0.00335148, 0.00703054, 0.00245477, ..., 0.00255817, 0.00304128,\n",
       "        0.00281799],\n",
       "       [0.00533445, 0.02197421, 0.00388922, ..., 0.0036024 , 0.01091174,\n",
       "        0.00743265],\n",
       "       [0.00739402, 0.01351785, 0.00401225, ..., 0.00389356, 0.00514903,\n",
       "        0.00464419]])"
      ]
     },
     "execution_count": 23,
     "metadata": {},
     "output_type": "execute_result"
    }
   ],
   "source": [
    "proba"
   ]
  },
  {
   "cell_type": "code",
   "execution_count": 28,
   "metadata": {},
   "outputs": [
    {
     "data": {
      "text/plain": [
       "array([[0.00183636, 0.00184406, 0.00191604, ..., 0.06130316, 0.07752504,\n",
       "        0.1097933 ],\n",
       "       [0.0018809 , 0.00192647, 0.00203627, ..., 0.03382954, 0.03693298,\n",
       "        0.41600918],\n",
       "       [0.00262772, 0.00285975, 0.00292381, ..., 0.05875187, 0.08695326,\n",
       "        0.14162986],\n",
       "       ...,\n",
       "       [0.00199588, 0.00199827, 0.0020225 , ..., 0.05069826, 0.06222428,\n",
       "        0.23196999],\n",
       "       [0.00265245, 0.00277129, 0.00278203, ..., 0.04088735, 0.04599599,\n",
       "        0.17491921],\n",
       "       [0.00296801, 0.00308881, 0.00310893, ..., 0.06360082, 0.06624073,\n",
       "        0.18794115]])"
      ]
     },
     "execution_count": 28,
     "metadata": {},
     "output_type": "execute_result"
    }
   ],
   "source": [
    "np.sort(proba,axis = 1)"
   ]
  }
 ],
 "metadata": {
  "kernelspec": {
   "display_name": "Python 3",
   "language": "python",
   "name": "python3"
  },
  "language_info": {
   "codemirror_mode": {
    "name": "ipython",
    "version": 3
   },
   "file_extension": ".py",
   "mimetype": "text/x-python",
   "name": "python",
   "nbconvert_exporter": "python",
   "pygments_lexer": "ipython3",
   "version": "3.6.4"
  }
 },
 "nbformat": 4,
 "nbformat_minor": 2
}
